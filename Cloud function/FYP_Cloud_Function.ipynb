{
  "nbformat": 4,
  "nbformat_minor": 0,
  "metadata": {
    "colab": {
      "provenance": []
    },
    "kernelspec": {
      "name": "python3",
      "display_name": "Python 3"
    },
    "language_info": {
      "name": "python"
    }
  },
  "cells": [
    {
      "cell_type": "code",
      "source": [
        "import cv2\n",
        "import numpy as np\n",
        "import matplotlib.pyplot as plt\n",
        "#import keras as K\n",
        "import keras.backend as K\n",
        "from tensorflow.keras.models import load_model\n",
        "from tensorflow.keras.models import Model\n",
        "from tensorflow import expand_dims\n",
        "#import tensorflow as tf\n",
        "from google.cloud import storage\n",
        "from google.colab.patches import cv2_imshow\n"
      ],
      "metadata": {
        "id": "48Z2Z2oHj5Is"
      },
      "execution_count": null,
      "outputs": []
    },
    {
      "cell_type": "code",
      "source": [
        "import json\n",
        "so=[];"
      ],
      "metadata": {
        "id": "rxVPPM3u-0gV"
      },
      "execution_count": null,
      "outputs": []
    },
    {
      "cell_type": "code",
      "source": [
        "from tensorflow.keras.models import load_model\n",
        "import tensorflow as tf\n",
        "from tensorflow.keras.models import Model\n"
      ],
      "metadata": {
        "id": "2QAaR0dZlYzr"
      },
      "execution_count": null,
      "outputs": []
    },
    {
      "cell_type": "code",
      "source": [
        "K=tf.keras.backend\n",
        "act_model=load_model('/content/drive/MyDrive/FYP/LSTM/model3.h5',compile = False,custom_objects={\"K.squeeze\": tf.squeeze})\n",
        "a=act_model.input[0]\n",
        "b=act_model.get_layer('dense')\n",
        "Model2=Model(inputs=a,outputs=b.output)\n"
      ],
      "metadata": {
        "id": "mYZWMKfPlXPX"
      },
      "execution_count": null,
      "outputs": []
    },
    {
      "cell_type": "code",
      "source": [
        "#Model2.save(filepath='/content/drive/MyDrive/FYP/LSTM2/model3.h5', overwrite=False, include_optimizer=True)"
      ],
      "metadata": {
        "id": "jDL8OVAAeRT_"
      },
      "execution_count": null,
      "outputs": []
    },
    {
      "cell_type": "code",
      "source": [
        "img3=None;"
      ],
      "metadata": {
        "id": "jtnAAlbzcQ3r"
      },
      "execution_count": null,
      "outputs": []
    },
    {
      "cell_type": "code",
      "source": [
        "\n",
        "def process_img(image):\n",
        "    gray = cv2.cvtColor(image, cv2.COLOR_BGR2GRAY)\n",
        "    blur = cv2.GaussianBlur(gray, (3,3), 0)\n",
        "    canny = cv2.Canny(blur, 120, 255, 1)\n",
        "    kernel = cv2.getStructuringElement(cv2.MORPH_RECT, (9,9))\n",
        "    dilate = cv2.dilate(canny, kernel, iterations=5)\n",
        "    img_erode = cv2.erode(dilate, kernel, iterations=1)\n",
        "\n",
        "#    cnts = cv2.findContours(dilate, cv2.RETR_EXTERNAL, cv2.CHAIN_APPROX_SIMPLE)\n",
        "    # img_gray = cv2.cvtColor(img, cv2.COLOR_BGR2GRAY)\n",
        "    # img_canny = cv2.Canny(img_gray, 120, 225,1)\n",
        "    # kernel = cv2.getStructuringElement(cv2.MORPH_RECT, (9,9))\n",
        "    # img_dilate = cv2.dilate(img_canny, kernel, iterations=5)\n",
        "    # img_erode = cv2.erode(img_dilate, kernel, iterations=1)\n",
        "    return img_erode"
      ],
      "metadata": {
        "id": "OAOuEYLukFMI"
      },
      "execution_count": null,
      "outputs": []
    },
    {
      "cell_type": "code",
      "source": [
        "\n",
        "\n",
        "def get_centeroid(cnt):\n",
        "    length = len(cnt)\n",
        "    sum_x = np.sum(cnt[..., 0])\n",
        "    sum_y = np.sum(cnt[..., 1])\n",
        "    return int(sum_x / length), int(sum_y / length)\n",
        "words_list = []\n",
        "def get_centers(img):\n",
        "    contours, hierarchies = cv2.findContours(img, cv2.RETR_EXTERNAL, cv2.CHAIN_APPROX_SIMPLE)\n",
        "    for cnt in contours:\n",
        "        if cv2.contourArea(cnt) > 100:\n",
        "            x2, y2, w2, h2 = cv2.boundingRect(cnt)\n",
        "            words_list.append([x2, y2, x2+w2, y2+h2])\n",
        "            yield get_centeroid(cnt)\n",
        "\n"
      ],
      "metadata": {
        "id": "05jBQXnikG89"
      },
      "execution_count": null,
      "outputs": []
    },
    {
      "cell_type": "code",
      "source": [
        "\n",
        "def get_rows(img, centers, row_amt, row_h):\n",
        "    centers = np.array(centers)\n",
        "    d = row_h / row_amt\n",
        "    for i in range(row_amt):\n",
        "        f = centers[:, 1] - d * i\n",
        "        a = centers[(f < d) & (f > 0)]\n",
        "        yield a[a.argsort(0)[:, 0]]\n"
      ],
      "metadata": {
        "id": "R5yU9TGCkIld"
      },
      "execution_count": null,
      "outputs": []
    },
    {
      "cell_type": "code",
      "source": [
        "def process_image(img):\n",
        "    \"\"\"\n",
        "    Converts image to shape (32, 128, 1) & normalize\n",
        "    \"\"\"\n",
        "    print(img.shape)\n",
        "    w, h = img.shape\n",
        "\n",
        "#     _, img = cv2.threshold(img,\n",
        "#                            128,\n",
        "#                            255,\n",
        "#                            cv2.THRESH_BINARY | cv2.THRESH_OTSU)\n",
        "\n",
        "    # Aspect Ratio Calculation\n",
        "    new_w = 32\n",
        "    new_h = int(h * (new_w / w))\n",
        "    img = cv2.resize(img, (new_h, new_w))\n",
        "    w, h = img.shape\n",
        "\n",
        "    img = img.astype('float32')\n",
        "\n",
        "    # Converts each to (32, 128, 1)\n",
        "    if w < 32:\n",
        "        add_zeros = np.full((32-w, h), 255)\n",
        "        img = np.concatenate((img, add_zeros))\n",
        "        w, h = img.shape\n",
        "\n",
        "    if h < 128:\n",
        "        add_zeros = np.full((w, 128-h), 255)\n",
        "        img = np.concatenate((img, add_zeros), axis=1)\n",
        "        w, h = img.shape\n",
        "\n",
        "    if h > 128 or w > 32:\n",
        "        dim = (128,32)\n",
        "        img = cv2.resize(img, dim)\n",
        "\n",
        "    img = cv2.subtract(255, img)\n",
        "\n",
        "    img = np.expand_dims(img, axis=2)\n",
        "\n",
        "    # Normalize\n",
        "    img = img / 255\n",
        "\n",
        "    return img"
      ],
      "metadata": {
        "id": "OXfM5Ga2kK89"
      },
      "execution_count": null,
      "outputs": []
    },
    {
      "cell_type": "code",
      "source": [
        "def fun(img):\n",
        "  img=process_image(img)\n",
        "  img=expand_dims(img, axis=0)\n",
        "  prediction = Model2.predict(img)\n",
        "  decoded = K.ctc_decode(prediction,input_length=np.ones(prediction.shape[0]) * prediction.shape[1],greedy=True)[0][0]\n",
        "  out = K.get_value(decoded)\n",
        "  char_list = \"!\\\"#&'()*+,-./0123456789:;?ABCDEFGHIJKLMNOPQRSTUVWXYZabcdefghijklmnopqrstuvwxyz\"\n",
        "\n",
        "  for i, x in enumerate(out):\n",
        "      print(\"predicted text = \", end = '')\n",
        "      for p in x:\n",
        "          if int(p) != -1:\n",
        "              s=char_list[int(p)]\n",
        "              so.append(s)\n",
        "              print(s)\n",
        "      so.append(' ')\n",
        "\n"
      ],
      "metadata": {
        "id": "XA3jnLbdkQJN"
      },
      "execution_count": null,
      "outputs": []
    },
    {
      "cell_type": "code",
      "source": [
        "act_model=load_model('/content/drive/MyDrive/FYP/LSTM/model3.h5',compile = False)\n",
        "a=act_model.input[0]\n",
        "b=act_model.get_layer('dense')\n",
        "Model2=Model(inputs=a,outputs=b.output)\n"
      ],
      "metadata": {
        "id": "WKrDER9w9vWQ"
      },
      "execution_count": null,
      "outputs": []
    },
    {
      "cell_type": "code",
      "source": [
        "import tensorflow as tf"
      ],
      "metadata": {
        "id": "y3L6-g2rFku7"
      },
      "execution_count": null,
      "outputs": []
    },
    {
      "cell_type": "code",
      "source": [
        "def segmentation( img ):\n",
        "\n",
        "  img = cv2.cvtColor(img, cv2.COLOR_BGR2RGB)\n",
        "\n",
        "  h, w, c = img.shape\n",
        "\n",
        "  if w > 1000:\n",
        "\n",
        "      new_w = 1000\n",
        "      ar = w/h\n",
        "      new_h = int(new_w/ar)\n",
        "\n",
        "      img = cv2.resize(img, (new_w, new_h), interpolation = cv2.INTER_AREA)\n",
        "  img3=img.copy()\n",
        "  print(\"Done\")\n",
        "  return img\n",
        "\n",
        "#  plt.imshow(img);"
      ],
      "metadata": {
        "id": "V-NZIus0czvM"
      },
      "execution_count": null,
      "outputs": []
    },
    {
      "cell_type": "code",
      "source": [
        "def thresholding(image):\n",
        "    img_gray = cv2.cvtColor(image,cv2.COLOR_BGR2GRAY)\n",
        "    ret,thresh = cv2.threshold(img_gray,80,255,cv2.THRESH_BINARY_INV)\n",
        "    plt.imshow(thresh, cmap='gray')\n",
        "    return thresh\n",
        "\n"
      ],
      "metadata": {
        "id": "vbgpWGscdQTo"
      },
      "execution_count": null,
      "outputs": []
    },
    {
      "cell_type": "code",
      "source": [
        "def realPred(img):\n",
        "  copy=img.copy()\n",
        "  #img_processed = process_img(img)\n",
        "  # centers = list(get_centers(img_processed))\n",
        "\n",
        "  # h, w, c = img.shape\n",
        "  # count = 0\n",
        "\n",
        "  # for row in get_rows(img, centers, 10, h):\n",
        "  #     cv2.polylines(img, [row], False, (255, 0, 255), 2)\n",
        "  #     for x, y in row:\n",
        "  #         count += 1\n",
        "  #         cv2.circle(img, (x, y), 10, (0, 0, 255), -1)\n",
        "  #         cv2.putText(img, str(count), (x - 10, y + 5), 1, cv2.FONT_HERSHEY_PLAIN, (0, 255, 255), 2)\n",
        "\n",
        "  # #cv2_imshow(img)\n",
        "  # #cv2.waitKey(0)\n",
        "  # copy = cv2.cvtColor(copy, cv2.COLOR_BGR2GRAY)\n",
        "\n",
        "\n",
        "  # ninth_word = words_list[-1]\n",
        "  # roi_9 = copy[ninth_word[1]:ninth_word[3], ninth_word[0]:ninth_word[2]]\n",
        "  # #print(ninth_word)\n",
        "  # #plt.imshow(roi_9);\n",
        "\n",
        "  act_model=load_model('/content/drive/MyDrive/FYP/LSTM/model3.h5',compile = False,custom_objects={\"K.squeeze\": tf.squeeze})\n",
        "  a=act_model.input[0]\n",
        "  b=act_model.get_layer('dense')\n",
        "  Model2=Model(inputs=a,outputs=b.output)\n",
        "  # for x in reversed(range(len(words_list))):\n",
        "  #   ninth_word = words_list[x]\n",
        "  #   roi_9 = copy[ninth_word[1]:ninth_word[3], ninth_word[0]:ninth_word[2]]\n",
        "  #   from google.colab.patches import cv2_imshow\n",
        "  cv2_imshow(img)\n",
        "  img = cv2.cvtColor(img, cv2.COLOR_BGR2GRAY)\n",
        "\n",
        "  fun(img)\n",
        "\n",
        "  str1=\"\"\n",
        "  for i in so:\n",
        "      str1 += i\n",
        "  print(str1)\n"
      ],
      "metadata": {
        "id": "MAS3zFpojKxJ"
      },
      "execution_count": null,
      "outputs": []
    },
    {
      "cell_type": "code",
      "source": [
        "#dilation\n",
        "img = cv2.imread('/content/1.png')\n",
        "img=segmentation(img)\n",
        "img3=img.copy()\n",
        "thresh_img = thresholding(img);\n",
        "kernel = np.ones((3,85), np.uint8)\n",
        "dilated = cv2.dilate(thresh_img, kernel, iterations = 1)\n",
        "plt.imshow(dilated, cmap='gray');\n",
        "(contours, heirarchy) = cv2.findContours(dilated.copy(), cv2.RETR_EXTERNAL, cv2.CHAIN_APPROX_NONE)\n",
        "sorted_contours_lines = sorted(contours, key = lambda ctr : cv2.boundingRect(ctr)[1]) # (\n",
        "img2 = img.copy()\n",
        "for ctr in sorted_contours_lines:\n",
        "\n",
        "    x,y,w,h = cv2.boundingRect(ctr)\n",
        "    cv2.rectangle(img2, (x,y), (x+w, y+h), (40, 100, 250), 2)\n",
        "\n",
        "#cv2_imshow(img2);\n",
        "sorted_ctrs = sorted(contours, key=lambda ctr: cv2.boundingRect(ctr)[1])\n",
        "for j in range(0,len(sorted_ctrs)):\n",
        "  x, y, w, h = cv2.boundingRect(sorted_ctrs[j])\n",
        "\n",
        "  # Getting ROI\n",
        "  roi = img3[y:y+h, x:x+w]\n",
        "\n",
        "  # show ROI\n",
        "  #cv2_imshow(roi)\n",
        "  #cv2.rectangle(img,(x,y),( x + w, y + h ),(90,0,255),2)\n",
        "#dilation\n",
        "for i in range(0,len(sorted_ctrs)):\n",
        "  kernel = np.ones((5,10), np.uint8)\n",
        "  x, y, w, h = cv2.boundingRect(sorted_ctrs[i])\n",
        "\n",
        "    # Getting ROI\n",
        "  roi = img3[y:y+h, x:x+w]\n",
        "  #cv2_imshow(roi)\n",
        "  thresh_img = thresholding(roi);\n",
        "\n",
        "  dilated2 = cv2.dilate(thresh_img, kernel, iterations = 1)\n",
        "  plt.imshow(dilated2, cmap='gray');\n",
        "  (contours2, heirarchy) = cv2.findContours(dilated2.copy(), cv2.RETR_EXTERNAL, cv2.CHAIN_APPROX_NONE)\n",
        "  sorted_contours_lines_word = sorted(contours2, key = lambda ctr : cv2.boundingRect(ctr)[0]) # (x, y, w, h)\n",
        "  for j in range(0,len(sorted_contours_lines_word)):\n",
        "    x, y, w, h = cv2.boundingRect(sorted_contours_lines_word[j])\n",
        "\n",
        "    # Getting ROI\n",
        "    roi2 = roi[y:y+h, x:x+w]\n",
        "\n",
        "\n",
        "    # show ROI\n",
        "    #cv2_imshow(roi2)\n",
        "    realPred(roi2)\n",
        "    #cv2.rectangle(img,(x,y),( x + w, y + h ),(90,0,255),2)\n",
        "\n"
      ],
      "metadata": {
        "id": "tOiwXOi0dV_s",
        "colab": {
          "base_uri": "https://localhost:8080/",
          "height": 1000
        },
        "outputId": "05b948b6-7df1-4336-f3fb-133cb3562cbf"
      },
      "execution_count": null,
      "outputs": [
        {
          "output_type": "stream",
          "name": "stdout",
          "text": [
            "Done\n"
          ]
        },
        {
          "output_type": "display_data",
          "data": {
            "text/plain": [
              "<PIL.Image.Image image mode=RGB size=19x23 at 0x7FDE3BE622D0>"
            ],
            "image/png": "[encoded data removed]"
          },
          "metadata": {}
        },
        {
          "output_type": "display_data",
          "data": {
            "text/plain": [
              "<PIL.Image.Image image mode=RGB size=19x23 at 0x7FDE385F8710>"
            ],
            "image/png": "[encoded data removed]"
          },
          "metadata": {}
        },
        {
          "output_type": "stream",
          "name": "stdout",
          "text": [
            "(23, 19)\n",
            "predicted text = A\n",
            "sor-ooD Sentence Database - - - - - A nore to stor Mrr. Gaitskellfioa nominatingaav #ore tabour Vfeleersis to bemadeat a neclingodlalows \" Potomomom Mr. Michad oot has putdoma a resodlutionon the subject and he is to be backed br Mrr. mi Gviththsr \" # for Mandatorlerdasgh - - - - \" MovE to stop Mr. . Gaitskell from nominating . . any more Labour life Peers o . to be made at a meeting . of Labour MP 8 tomorrow Mr . Michael Foot has put down a resolution on the subject \" . on he . o to be backed by Mr. . Will Griffiths , \" P for Manchester Exhange . - - - - - Mraraer . A \n"
          ]
        },
        {
          "output_type": "display_data",
          "data": {
            "text/plain": [
              "<PIL.Image.Image image mode=RGB size=94x22 at 0x7FDE3BF24550>"
            ],
            "image/png": "[encoded data removed]"
          },
          "metadata": {}
        },
        {
          "output_type": "display_data",
          "data": {
            "text/plain": [
              "<PIL.Image.Image image mode=RGB size=94x22 at 0x7FDE385F8250>"
            ],
            "image/png": "[encoded data removed]"
          },
          "metadata": {}
        },
        {
          "output_type": "stream",
          "name": "stdout",
          "text": [
            "(22, 94)\n",
            "predicted text = M\n",
            "o\n",
            "V\n",
            "E\n",
            "sor-ooD Sentence Database - - - - - A nore to stor Mrr. Gaitskellfioa nominatingaav #ore tabour Vfeleersis to bemadeat a neclingodlalows \" Potomomom Mr. Michad oot has putdoma a resodlutionon the subject and he is to be backed br Mrr. mi Gviththsr \" # for Mandatorlerdasgh - - - - \" MovE to stop Mr. . Gaitskell from nominating . . any more Labour life Peers o . to be made at a meeting . of Labour MP 8 tomorrow Mr . Michael Foot has put down a resolution on the subject \" . on he . o to be backed by Mr. . Will Griffiths , \" P for Manchester Exhange . - - - - - Mraraer . A MoVE \n"
          ]
        },
        {
          "output_type": "display_data",
          "data": {
            "text/plain": [
              "<PIL.Image.Image image mode=RGB size=37x23 at 0x7FDE38F27890>"
            ],
            "image/png": "[encoded data removed]"
          },
          "metadata": {}
        },
        {
          "output_type": "display_data",
          "data": {
            "text/plain": [
              "<PIL.Image.Image image mode=RGB size=37x23 at 0x7FDE3C9CF450>"
            ],
            "image/png": "[encoded data removed]"
          },
          "metadata": {}
        },
        {
          "output_type": "stream",
          "name": "stdout",
          "text": [
            "(23, 37)\n",
            "predicted text = t\n",
            "o\n",
            "sor-ooD Sentence Database - - - - - A nore to stor Mrr. Gaitskellfioa nominatingaav #ore tabour Vfeleersis to bemadeat a neclingodlalows \" Potomomom Mr. Michad oot has putdoma a resodlutionon the subject and he is to be backed br Mrr. mi Gviththsr \" # for Mandatorlerdasgh - - - - \" MovE to stop Mr. . Gaitskell from nominating . . any more Labour life Peers o . to be made at a meeting . of Labour MP 8 tomorrow Mr . Michael Foot has put down a resolution on the subject \" . on he . o to be backed by Mr. . Will Griffiths , \" P for Manchester Exhange . - - - - - Mraraer . A MoVE to \n"
          ]
        },
        {
          "output_type": "display_data",
          "data": {
            "text/plain": [
              "<PIL.Image.Image image mode=RGB size=75x32 at 0x7FDE3C9CF110>"
            ],
            "image/png": "[encoded data removed]"
          },
          "metadata": {}
        },
        {
          "output_type": "display_data",
          "data": {
            "text/plain": [
              "<PIL.Image.Image image mode=RGB size=75x32 at 0x7FDE3CC23090>"
            ],
            "image/png": "[encoded data removed]"
          },
          "metadata": {}
        },
        {
          "output_type": "stream",
          "name": "stdout",
          "text": [
            "(32, 75)\n",
            "predicted text = s\n",
            "t\n",
            "o\n",
            "p\n",
            "sor-ooD Sentence Database - - - - - A nore to stor Mrr. Gaitskellfioa nominatingaav #ore tabour Vfeleersis to bemadeat a neclingodlalows \" Potomomom Mr. Michad oot has putdoma a resodlutionon the subject and he is to be backed br Mrr. mi Gviththsr \" # for Mandatorlerdasgh - - - - \" MovE to stop Mr. . Gaitskell from nominating . . any more Labour life Peers o . to be made at a meeting . of Labour MP 8 tomorrow Mr . Michael Foot has put down a resolution on the subject \" . on he . o to be backed by Mr. . Will Griffiths , \" P for Manchester Exhange . - - - - - Mraraer . A MoVE to stop \n"
          ]
        },
        {
          "output_type": "display_data",
          "data": {
            "text/plain": [
              "<PIL.Image.Image image mode=RGB size=52x27 at 0x7FDE3CC3AA50>"
            ],
            "image/png": "[encoded data removed]"
          },
          "metadata": {}
        },
        {
          "output_type": "display_data",
          "data": {
            "text/plain": [
              "<PIL.Image.Image image mode=RGB size=52x27 at 0x7FDE39394590>"
            ],
            "image/png": "[encoded data removed]"
          },
          "metadata": {}
        },
        {
          "output_type": "stream",
          "name": "stdout",
          "text": [
            "(27, 52)\n",
            "predicted text = M\n",
            "r\n",
            ".\n",
            "sor-ooD Sentence Database - - - - - A nore to stor Mrr. Gaitskellfioa nominatingaav #ore tabour Vfeleersis to bemadeat a neclingodlalows \" Potomomom Mr. Michad oot has putdoma a resodlutionon the subject and he is to be backed br Mrr. mi Gviththsr \" # for Mandatorlerdasgh - - - - \" MovE to stop Mr. . Gaitskell from nominating . . any more Labour life Peers o . to be made at a meeting . of Labour MP 8 tomorrow Mr . Michael Foot has put down a resolution on the subject \" . on he . o to be backed by Mr. . Will Griffiths , \" P for Manchester Exhange . - - - - - Mraraer . A MoVE to stop Mr. \n"
          ]
        },
        {
          "output_type": "display_data",
          "data": {
            "text/plain": [
              "<PIL.Image.Image image mode=RGB size=12x7 at 0x7FDE393A7050>"
            ],
            "image/png": "[encoded data removed]"
          },
          "metadata": {}
        },
        {
          "output_type": "display_data",
          "data": {
            "text/plain": [
              "<PIL.Image.Image image mode=RGB size=12x7 at 0x7FDE39464090>"
            ],
            "image/png": "[encoded data removed]"
          },
          "metadata": {}
        },
        {
          "output_type": "stream",
          "name": "stdout",
          "text": [
            "(7, 12)\n",
            "predicted text = .\n",
            "sor-ooD Sentence Database - - - - - A nore to stor Mrr. Gaitskellfioa nominatingaav #ore tabour Vfeleersis to bemadeat a neclingodlalows \" Potomomom Mr. Michad oot has putdoma a resodlutionon the subject and he is to be backed br Mrr. mi Gviththsr \" # for Mandatorlerdasgh - - - - \" MovE to stop Mr. . Gaitskell from nominating . . any more Labour life Peers o . to be made at a meeting . of Labour MP 8 tomorrow Mr . Michael Foot has put down a resolution on the subject \" . on he . o to be backed by Mr. . Will Griffiths , \" P for Manchester Exhange . - - - - - Mraraer . A MoVE to stop Mr. . \n"
          ]
        },
        {
          "output_type": "display_data",
          "data": {
            "text/plain": [
              "<PIL.Image.Image image mode=RGB size=163x29 at 0x7FDE3C377A10>"
            ],
            "image/png": "[encoded data removed]"
          },
          "metadata": {}
        },
        {
          "output_type": "display_data",
          "data": {
            "text/plain": [
              "<PIL.Image.Image image mode=RGB size=163x29 at 0x7FDE3B8B3C90>"
            ],
            "image/png": "[encoded data removed]"
          },
          "metadata": {}
        },
        {
          "output_type": "stream",
          "name": "stdout",
          "text": [
            "(29, 163)\n",
            "predicted text = G\n",
            "a\n",
            "i\n",
            "t\n",
            "s\n",
            "k\n",
            "e\n",
            "l\n",
            "l\n",
            "sor-ooD Sentence Database - - - - - A nore to stor Mrr. Gaitskellfioa nominatingaav #ore tabour Vfeleersis to bemadeat a neclingodlalows \" Potomomom Mr. Michad oot has putdoma a resodlutionon the subject and he is to be backed br Mrr. mi Gviththsr \" # for Mandatorlerdasgh - - - - \" MovE to stop Mr. . Gaitskell from nominating . . any more Labour life Peers o . to be made at a meeting . of Labour MP 8 tomorrow Mr . Michael Foot has put down a resolution on the subject \" . on he . o to be backed by Mr. . Will Griffiths , \" P for Manchester Exhange . - - - - - Mraraer . A MoVE to stop Mr. . Gaitskell \n"
          ]
        },
        {
          "output_type": "display_data",
          "data": {
            "text/plain": [
              "<PIL.Image.Image image mode=RGB size=78x31 at 0x7FDE3B927A90>"
            ],
            "image/png": "[encoded data removed]"
          },
          "metadata": {}
        },
        {
          "output_type": "display_data",
          "data": {
            "text/plain": [
              "<PIL.Image.Image image mode=RGB size=78x31 at 0x7FDE3CCCB0D0>"
            ],
            "image/png": "[encoded data removed]"
          },
          "metadata": {}
        },
        {
          "output_type": "stream",
          "name": "stdout",
          "text": [
            "(31, 78)\n",
            "predicted text = f\n",
            "r\n",
            "o\n",
            "m\n",
            "sor-ooD Sentence Database - - - - - A nore to stor Mrr. Gaitskellfioa nominatingaav #ore tabour Vfeleersis to bemadeat a neclingodlalows \" Potomomom Mr. Michad oot has putdoma a resodlutionon the subject and he is to be backed br Mrr. mi Gviththsr \" # for Mandatorlerdasgh - - - - \" MovE to stop Mr. . Gaitskell from nominating . . any more Labour life Peers o . to be made at a meeting . of Labour MP 8 tomorrow Mr . Michael Foot has put down a resolution on the subject \" . on he . o to be backed by Mr. . Will Griffiths , \" P for Manchester Exhange . - - - - - Mraraer . A MoVE to stop Mr. . Gaitskell from \n"
          ]
        },
        {
          "output_type": "display_data",
          "data": {
            "text/plain": [
              "<PIL.Image.Image image mode=RGB size=187x43 at 0x7FDE3CC81950>"
            ],
            "image/png": "[encoded data removed]"
          },
          "metadata": {}
        },
        {
          "output_type": "display_data",
          "data": {
            "text/plain": [
              "<PIL.Image.Image image mode=RGB size=187x43 at 0x7FDE3CC66590>"
            ],
            "image/png": "[encoded data removed]"
          },
          "metadata": {}
        },
        {
          "output_type": "stream",
          "name": "stdout",
          "text": [
            "(43, 187)\n",
            "predicted text = n\n",
            "o\n",
            "m\n",
            "i\n",
            "n\n",
            "a\n",
            "t\n",
            "i\n",
            "n\n",
            "g\n",
            "sor-ooD Sentence Database - - - - - A nore to stor Mrr. Gaitskellfioa nominatingaav #ore tabour Vfeleersis to bemadeat a neclingodlalows \" Potomomom Mr. Michad oot has putdoma a resodlutionon the subject and he is to be backed br Mrr. mi Gviththsr \" # for Mandatorlerdasgh - - - - \" MovE to stop Mr. . Gaitskell from nominating . . any more Labour life Peers o . to be made at a meeting . of Labour MP 8 tomorrow Mr . Michael Foot has put down a resolution on the subject \" . on he . o to be backed by Mr. . Will Griffiths , \" P for Manchester Exhange . - - - - - Mraraer . A MoVE to stop Mr. . Gaitskell from nominating \n"
          ]
        },
        {
          "output_type": "display_data",
          "data": {
            "text/plain": [
              "<PIL.Image.Image image mode=RGB size=12x8 at 0x7FDE3BC9E610>"
            ],
            "image/png": "[encoded data removed]"
          },
          "metadata": {}
        },
        {
          "output_type": "display_data",
          "data": {
            "text/plain": [
              "<PIL.Image.Image image mode=RGB size=12x8 at 0x7FDE3CC80A10>"
            ],
            "image/png": "[encoded data removed]"
          },
          "metadata": {}
        },
        {
          "output_type": "stream",
          "name": "stdout",
          "text": [
            "(8, 12)\n",
            "predicted text = .\n",
            "sor-ooD Sentence Database - - - - - A nore to stor Mrr. Gaitskellfioa nominatingaav #ore tabour Vfeleersis to bemadeat a neclingodlalows \" Potomomom Mr. Michad oot has putdoma a resodlutionon the subject and he is to be backed br Mrr. mi Gviththsr \" # for Mandatorlerdasgh - - - - \" MovE to stop Mr. . Gaitskell from nominating . . any more Labour life Peers o . to be made at a meeting . of Labour MP 8 tomorrow Mr . Michael Foot has put down a resolution on the subject \" . on he . o to be backed by Mr. . Will Griffiths , \" P for Manchester Exhange . - - - - - Mraraer . A MoVE to stop Mr. . Gaitskell from nominating . \n"
          ]
        },
        {
          "output_type": "display_data",
          "data": {
            "text/plain": [
              "<PIL.Image.Image image mode=RGB size=13x8 at 0x7FDE3CC772D0>"
            ],
            "image/png": "[encoded data removed]"
          },
          "metadata": {}
        },
        {
          "output_type": "display_data",
          "data": {
            "text/plain": [
              "<PIL.Image.Image image mode=RGB size=13x8 at 0x7FDE3951BD90>"
            ],
            "image/png": "[encoded data removed]"
          },
          "metadata": {}
        },
        {
          "output_type": "stream",
          "name": "stdout",
          "text": [
            "(8, 13)\n",
            "predicted text = .\n",
            "sor-ooD Sentence Database - - - - - A nore to stor Mrr. Gaitskellfioa nominatingaav #ore tabour Vfeleersis to bemadeat a neclingodlalows \" Potomomom Mr. Michad oot has putdoma a resodlutionon the subject and he is to be backed br Mrr. mi Gviththsr \" # for Mandatorlerdasgh - - - - \" MovE to stop Mr. . Gaitskell from nominating . . any more Labour life Peers o . to be made at a meeting . of Labour MP 8 tomorrow Mr . Michael Foot has put down a resolution on the subject \" . on he . o to be backed by Mr. . Will Griffiths , \" P for Manchester Exhange . - - - - - Mraraer . A MoVE to stop Mr. . Gaitskell from nominating . . \n"
          ]
        },
        {
          "output_type": "display_data",
          "data": {
            "text/plain": [
              "<PIL.Image.Image image mode=RGB size=67x34 at 0x7FDE39539950>"
            ],
            "image/png": "[encoded data removed]"
          },
          "metadata": {}
        },
        {
          "output_type": "display_data",
          "data": {
            "text/plain": [
              "<PIL.Image.Image image mode=RGB size=67x34 at 0x7FDE3774FFD0>"
            ],
            "image/png": "[encoded data removed]"
          },
          "metadata": {}
        },
        {
          "output_type": "stream",
          "name": "stdout",
          "text": [
            "(34, 67)\n",
            "predicted text = a\n",
            "n\n",
            "y\n",
            "sor-ooD Sentence Database - - - - - A nore to stor Mrr. Gaitskellfioa nominatingaav #ore tabour Vfeleersis to bemadeat a neclingodlalows \" Potomomom Mr. Michad oot has putdoma a resodlutionon the subject and he is to be backed br Mrr. mi Gviththsr \" # for Mandatorlerdasgh - - - - \" MovE to stop Mr. . Gaitskell from nominating . . any more Labour life Peers o . to be made at a meeting . of Labour MP 8 tomorrow Mr . Michael Foot has put down a resolution on the subject \" . on he . o to be backed by Mr. . Will Griffiths , \" P for Manchester Exhange . - - - - - Mraraer . A MoVE to stop Mr. . Gaitskell from nominating . . any \n"
          ]
        },
        {
          "output_type": "display_data",
          "data": {
            "text/plain": [
              "<PIL.Image.Image image mode=RGB size=92x20 at 0x7FDE377708D0>"
            ],
            "image/png": "[encoded data removed]"
          },
          "metadata": {}
        },
        {
          "output_type": "display_data",
          "data": {
            "text/plain": [
              "<PIL.Image.Image image mode=RGB size=92x20 at 0x7FDE387AC350>"
            ],
            "image/png": "[encoded data removed]"
          },
          "metadata": {}
        },
        {
          "output_type": "stream",
          "name": "stdout",
          "text": [
            "(20, 92)\n",
            "predicted text = m\n",
            "o\n",
            "r\n",
            "e\n",
            "sor-ooD Sentence Database - - - - - A nore to stor Mrr. Gaitskellfioa nominatingaav #ore tabour Vfeleersis to bemadeat a neclingodlalows \" Potomomom Mr. Michad oot has putdoma a resodlutionon the subject and he is to be backed br Mrr. mi Gviththsr \" # for Mandatorlerdasgh - - - - \" MovE to stop Mr. . Gaitskell from nominating . . any more Labour life Peers o . to be made at a meeting . of Labour MP 8 tomorrow Mr . Michael Foot has put down a resolution on the subject \" . on he . o to be backed by Mr. . Will Griffiths , \" P for Manchester Exhange . - - - - - Mraraer . A MoVE to stop Mr. . Gaitskell from nominating . . any more \n"
          ]
        },
        {
          "output_type": "display_data",
          "data": {
            "text/plain": [
              "<PIL.Image.Image image mode=RGB size=127x27 at 0x7FDE3CB61C90>"
            ],
            "image/png": "[encoded data removed]"
          },
          "metadata": {}
        },
        {
          "output_type": "display_data",
          "data": {
            "text/plain": [
              "<PIL.Image.Image image mode=RGB size=127x27 at 0x7FDE392FDCD0>"
            ],
            "image/png": "[encoded data removed]"
          },
          "metadata": {}
        },
        {
          "output_type": "stream",
          "name": "stdout",
          "text": [
            "(27, 127)\n",
            "predicted text = L\n",
            "a\n",
            "b\n",
            "o\n",
            "u\n",
            "r\n",
            "sor-ooD Sentence Database - - - - - A nore to stor Mrr. Gaitskellfioa nominatingaav #ore tabour Vfeleersis to bemadeat a neclingodlalows \" Potomomom Mr. Michad oot has putdoma a resodlutionon the subject and he is to be backed br Mrr. mi Gviththsr \" # for Mandatorlerdasgh - - - - \" MovE to stop Mr. . Gaitskell from nominating . . any more Labour life Peers o . to be made at a meeting . of Labour MP 8 tomorrow Mr . Michael Foot has put down a resolution on the subject \" . on he . o to be backed by Mr. . Will Griffiths , \" P for Manchester Exhange . - - - - - Mraraer . A MoVE to stop Mr. . Gaitskell from nominating . . any more Labour \n"
          ]
        },
        {
          "output_type": "display_data",
          "data": {
            "text/plain": [
              "<PIL.Image.Image image mode=RGB size=78x28 at 0x7FDE3BA4DCD0>"
            ],
            "image/png": "[encoded data removed]"
          },
          "metadata": {}
        },
        {
          "output_type": "display_data",
          "data": {
            "text/plain": [
              "<PIL.Image.Image image mode=RGB size=78x28 at 0x7FDE3C9D5E10>"
            ],
            "image/png": "[encoded data removed]"
          },
          "metadata": {}
        },
        {
          "output_type": "stream",
          "name": "stdout",
          "text": [
            "(28, 78)\n",
            "predicted text = l\n",
            "i\n",
            "f\n",
            "e\n",
            "sor-ooD Sentence Database - - - - - A nore to stor Mrr. Gaitskellfioa nominatingaav #ore tabour Vfeleersis to bemadeat a neclingodlalows \" Potomomom Mr. Michad oot has putdoma a resodlutionon the subject and he is to be backed br Mrr. mi Gviththsr \" # for Mandatorlerdasgh - - - - \" MovE to stop Mr. . Gaitskell from nominating . . any more Labour life Peers o . to be made at a meeting . of Labour MP 8 tomorrow Mr . Michael Foot has put down a resolution on the subject \" . on he . o to be backed by Mr. . Will Griffiths , \" P for Manchester Exhange . - - - - - Mraraer . A MoVE to stop Mr. . Gaitskell from nominating . . any more Labour life \n"
          ]
        },
        {
          "output_type": "display_data",
          "data": {
            "text/plain": [
              "<PIL.Image.Image image mode=RGB size=103x31 at 0x7FDE3C9D5850>"
            ],
            "image/png": "[encoded data removed]"
          },
          "metadata": {}
        },
        {
          "output_type": "display_data",
          "data": {
            "text/plain": [
              "<PIL.Image.Image image mode=RGB size=103x31 at 0x7FDE3C216110>"
            ],
            "image/png": "[encoded data removed]"
          },
          "metadata": {}
        },
        {
          "output_type": "stream",
          "name": "stdout",
          "text": [
            "(31, 103)\n",
            "predicted text = P\n",
            "e\n",
            "e\n",
            "r\n",
            "s\n",
            "sor-ooD Sentence Database - - - - - A nore to stor Mrr. Gaitskellfioa nominatingaav #ore tabour Vfeleersis to bemadeat a neclingodlalows \" Potomomom Mr. Michad oot has putdoma a resodlutionon the subject and he is to be backed br Mrr. mi Gviththsr \" # for Mandatorlerdasgh - - - - \" MovE to stop Mr. . Gaitskell from nominating . . any more Labour life Peers o . to be made at a meeting . of Labour MP 8 tomorrow Mr . Michael Foot has put down a resolution on the subject \" . on he . o to be backed by Mr. . Will Griffiths , \" P for Manchester Exhange . - - - - - Mraraer . A MoVE to stop Mr. . Gaitskell from nominating . . any more Labour life Peers \n"
          ]
        },
        {
          "output_type": "display_data",
          "data": {
            "text/plain": [
              "<PIL.Image.Image image mode=RGB size=35x16 at 0x7FDE3C2BA650>"
            ],
            "image/png": "[encoded data removed]"
          },
          "metadata": {}
        },
        {
          "output_type": "display_data",
          "data": {
            "text/plain": [
              "<PIL.Image.Image image mode=RGB size=35x16 at 0x7FDE3BE375D0>"
            ],
            "image/png": "[encoded data removed]"
          },
          "metadata": {}
        },
        {
          "output_type": "stream",
          "name": "stdout",
          "text": [
            "(16, 35)\n",
            "predicted text = n\n",
            "o\n",
            "sor-ooD Sentence Database - - - - - A nore to stor Mrr. Gaitskellfioa nominatingaav #ore tabour Vfeleersis to bemadeat a neclingodlalows \" Potomomom Mr. Michad oot has putdoma a resodlutionon the subject and he is to be backed br Mrr. mi Gviththsr \" # for Mandatorlerdasgh - - - - \" MovE to stop Mr. . Gaitskell from nominating . . any more Labour life Peers o . to be made at a meeting . of Labour MP 8 tomorrow Mr . Michael Foot has put down a resolution on the subject \" . on he . o to be backed by Mr. . Will Griffiths , \" P for Manchester Exhange . - - - - - Mraraer . A MoVE to stop Mr. . Gaitskell from nominating . . any more Labour life Peers no \n"
          ]
        },
        {
          "output_type": "display_data",
          "data": {
            "text/plain": [
              "<PIL.Image.Image image mode=RGB size=13x8 at 0x7FDE3BE37210>"
            ],
            "image/png": "[encoded data removed]"
          },
          "metadata": {}
        },
        {
          "output_type": "display_data",
          "data": {
            "text/plain": [
              "<PIL.Image.Image image mode=RGB size=13x8 at 0x7FDE37551B50>"
            ],
            "image/png": "[encoded data removed]"
          },
          "metadata": {}
        },
        {
          "output_type": "stream",
          "name": "stdout",
          "text": [
            "(8, 13)\n",
            "predicted text = .\n",
            "sor-ooD Sentence Database - - - - - A nore to stor Mrr. Gaitskellfioa nominatingaav #ore tabour Vfeleersis to bemadeat a neclingodlalows \" Potomomom Mr. Michad oot has putdoma a resodlutionon the subject and he is to be backed br Mrr. mi Gviththsr \" # for Mandatorlerdasgh - - - - \" MovE to stop Mr. . Gaitskell from nominating . . any more Labour life Peers o . to be made at a meeting . of Labour MP 8 tomorrow Mr . Michael Foot has put down a resolution on the subject \" . on he . o to be backed by Mr. . Will Griffiths , \" P for Manchester Exhange . - - - - - Mraraer . A MoVE to stop Mr. . Gaitskell from nominating . . any more Labour life Peers no . \n"
          ]
        },
        {
          "output_type": "display_data",
          "data": {
            "text/plain": [
              "<PIL.Image.Image image mode=RGB size=37x24 at 0x7FDE37570F90>"
            ],
            "image/png": "[encoded data removed]"
          },
          "metadata": {}
        },
        {
          "output_type": "display_data",
          "data": {
            "text/plain": [
              "<PIL.Image.Image image mode=RGB size=37x24 at 0x7FDE3BCA8850>"
            ],
            "image/png": "[encoded data removed]"
          },
          "metadata": {}
        },
        {
          "output_type": "stream",
          "name": "stdout",
          "text": [
            "(24, 37)\n",
            "predicted text = t\n",
            "o\n",
            "sor-ooD Sentence Database - - - - - A nore to stor Mrr. Gaitskellfioa nominatingaav #ore tabour Vfeleersis to bemadeat a neclingodlalows \" Potomomom Mr. Michad oot has putdoma a resodlutionon the subject and he is to be backed br Mrr. mi Gviththsr \" # for Mandatorlerdasgh - - - - \" MovE to stop Mr. . Gaitskell from nominating . . any more Labour life Peers o . to be made at a meeting . of Labour MP 8 tomorrow Mr . Michael Foot has put down a resolution on the subject \" . on he . o to be backed by Mr. . Will Griffiths , \" P for Manchester Exhange . - - - - - Mraraer . A MoVE to stop Mr. . Gaitskell from nominating . . any more Labour life Peers no . to \n"
          ]
        },
        {
          "output_type": "display_data",
          "data": {
            "text/plain": [
              "<PIL.Image.Image image mode=RGB size=53x29 at 0x7FDE38559290>"
            ],
            "image/png": "[encoded data removed]"
          },
          "metadata": {}
        },
        {
          "output_type": "display_data",
          "data": {
            "text/plain": [
              "<PIL.Image.Image image mode=RGB size=53x29 at 0x7FDE3C2AF550>"
            ],
            "image/png": "[encoded data removed]"
          },
          "metadata": {}
        },
        {
          "output_type": "stream",
          "name": "stdout",
          "text": [
            "(29, 53)\n",
            "predicted text = b\n",
            "e\n",
            "sor-ooD Sentence Database - - - - - A nore to stor Mrr. Gaitskellfioa nominatingaav #ore tabour Vfeleersis to bemadeat a neclingodlalows \" Potomomom Mr. Michad oot has putdoma a resodlutionon the subject and he is to be backed br Mrr. mi Gviththsr \" # for Mandatorlerdasgh - - - - \" MovE to stop Mr. . Gaitskell from nominating . . any more Labour life Peers o . to be made at a meeting . of Labour MP 8 tomorrow Mr . Michael Foot has put down a resolution on the subject \" . on he . o to be backed by Mr. . Will Griffiths , \" P for Manchester Exhange . - - - - - Mraraer . A MoVE to stop Mr. . Gaitskell from nominating . . any more Labour life Peers no . to be \n"
          ]
        },
        {
          "output_type": "display_data",
          "data": {
            "text/plain": [
              "<PIL.Image.Image image mode=RGB size=121x21 at 0x7FDE3C2AF790>"
            ],
            "image/png": "[encoded data removed]"
          },
          "metadata": {}
        },
        {
          "output_type": "display_data",
          "data": {
            "text/plain": [
              "<PIL.Image.Image image mode=RGB size=121x21 at 0x7FDE3858CF90>"
            ],
            "image/png": "[encoded data removed]"
          },
          "metadata": {}
        },
        {
          "output_type": "stream",
          "name": "stdout",
          "text": [
            "(21, 121)\n",
            "predicted text = m\n",
            "a\n",
            "d\n",
            "e\n",
            "sor-ooD Sentence Database - - - - - A nore to stor Mrr. Gaitskellfioa nominatingaav #ore tabour Vfeleersis to bemadeat a neclingodlalows \" Potomomom Mr. Michad oot has putdoma a resodlutionon the subject and he is to be backed br Mrr. mi Gviththsr \" # for Mandatorlerdasgh - - - - \" MovE to stop Mr. . Gaitskell from nominating . . any more Labour life Peers o . to be made at a meeting . of Labour MP 8 tomorrow Mr . Michael Foot has put down a resolution on the subject \" . on he . o to be backed by Mr. . Will Griffiths , \" P for Manchester Exhange . - - - - - Mraraer . A MoVE to stop Mr. . Gaitskell from nominating . . any more Labour life Peers no . to be made \n"
          ]
        },
        {
          "output_type": "display_data",
          "data": {
            "text/plain": [
              "<PIL.Image.Image image mode=RGB size=40x26 at 0x7FDE3B8B3BD0>"
            ],
            "image/png": "[encoded data removed]"
          },
          "metadata": {}
        },
        {
          "output_type": "display_data",
          "data": {
            "text/plain": [
              "<PIL.Image.Image image mode=RGB size=40x26 at 0x7FDE385E0990>"
            ],
            "image/png": "[encoded data removed]"
          },
          "metadata": {}
        },
        {
          "output_type": "stream",
          "name": "stdout",
          "text": [
            "(26, 40)\n",
            "predicted text = a\n",
            "t\n",
            "sor-ooD Sentence Database - - - - - A nore to stor Mrr. Gaitskellfioa nominatingaav #ore tabour Vfeleersis to bemadeat a neclingodlalows \" Potomomom Mr. Michad oot has putdoma a resodlutionon the subject and he is to be backed br Mrr. mi Gviththsr \" # for Mandatorlerdasgh - - - - \" MovE to stop Mr. . Gaitskell from nominating . . any more Labour life Peers o . to be made at a meeting . of Labour MP 8 tomorrow Mr . Michael Foot has put down a resolution on the subject \" . on he . o to be backed by Mr. . Will Griffiths , \" P for Manchester Exhange . - - - - - Mraraer . A MoVE to stop Mr. . Gaitskell from nominating . . any more Labour life Peers no . to be made at \n"
          ]
        },
        {
          "output_type": "display_data",
          "data": {
            "text/plain": [
              "<PIL.Image.Image image mode=RGB size=34x17 at 0x7FDE38E6DA90>"
            ],
            "image/png": "[encoded data removed]"
          },
          "metadata": {}
        },
        {
          "output_type": "display_data",
          "data": {
            "text/plain": [
              "<PIL.Image.Image image mode=RGB size=34x17 at 0x7FDE3C34C210>"
            ],
            "image/png": "[encoded data removed]"
          },
          "metadata": {}
        },
        {
          "output_type": "stream",
          "name": "stdout",
          "text": [
            "(17, 34)\n",
            "predicted text = a\n",
            "sor-ooD Sentence Database - - - - - A nore to stor Mrr. Gaitskellfioa nominatingaav #ore tabour Vfeleersis to bemadeat a neclingodlalows \" Potomomom Mr. Michad oot has putdoma a resodlutionon the subject and he is to be backed br Mrr. mi Gviththsr \" # for Mandatorlerdasgh - - - - \" MovE to stop Mr. . Gaitskell from nominating . . any more Labour life Peers o . to be made at a meeting . of Labour MP 8 tomorrow Mr . Michael Foot has put down a resolution on the subject \" . on he . o to be backed by Mr. . Will Griffiths , \" P for Manchester Exhange . - - - - - Mraraer . A MoVE to stop Mr. . Gaitskell from nominating . . any more Labour life Peers no . to be made at a \n"
          ]
        },
        {
          "output_type": "display_data",
          "data": {
            "text/plain": [
              "<PIL.Image.Image image mode=RGB size=144x40 at 0x7FDE38497A50>"
            ],
            "image/png": "[encoded data removed]"
          },
          "metadata": {}
        },
        {
          "output_type": "display_data",
          "data": {
            "text/plain": [
              "<PIL.Image.Image image mode=RGB size=144x40 at 0x7FDE3B786D10>"
            ],
            "image/png": "[encoded data removed]"
          },
          "metadata": {}
        },
        {
          "output_type": "stream",
          "name": "stdout",
          "text": [
            "(40, 144)\n",
            "predicted text = m\n",
            "e\n",
            "e\n",
            "t\n",
            "i\n",
            "n\n",
            "g\n",
            "sor-ooD Sentence Database - - - - - A nore to stor Mrr. Gaitskellfioa nominatingaav #ore tabour Vfeleersis to bemadeat a neclingodlalows \" Potomomom Mr. Michad oot has putdoma a resodlutionon the subject and he is to be backed br Mrr. mi Gviththsr \" # for Mandatorlerdasgh - - - - \" MovE to stop Mr. . Gaitskell from nominating . . any more Labour life Peers o . to be made at a meeting . of Labour MP 8 tomorrow Mr . Michael Foot has put down a resolution on the subject \" . on he . o to be backed by Mr. . Will Griffiths , \" P for Manchester Exhange . - - - - - Mraraer . A MoVE to stop Mr. . Gaitskell from nominating . . any more Labour life Peers no . to be made at a meeting \n"
          ]
        },
        {
          "output_type": "display_data",
          "data": {
            "text/plain": [
              "<PIL.Image.Image image mode=RGB size=11x8 at 0x7FDE3B786210>"
            ],
            "image/png": "[encoded data removed]"
          },
          "metadata": {}
        },
        {
          "output_type": "display_data",
          "data": {
            "text/plain": [
              "<PIL.Image.Image image mode=RGB size=11x8 at 0x7FDE392B8C50>"
            ],
            "image/png": "[encoded data removed]"
          },
          "metadata": {}
        },
        {
          "output_type": "stream",
          "name": "stdout",
          "text": [
            "(8, 11)\n",
            "predicted text = .\n",
            "sor-ooD Sentence Database - - - - - A nore to stor Mrr. Gaitskellfioa nominatingaav #ore tabour Vfeleersis to bemadeat a neclingodlalows \" Potomomom Mr. Michad oot has putdoma a resodlutionon the subject and he is to be backed br Mrr. mi Gviththsr \" # for Mandatorlerdasgh - - - - \" MovE to stop Mr. . Gaitskell from nominating . . any more Labour life Peers o . to be made at a meeting . of Labour MP 8 tomorrow Mr . Michael Foot has put down a resolution on the subject \" . on he . o to be backed by Mr. . Will Griffiths , \" P for Manchester Exhange . - - - - - Mraraer . A MoVE to stop Mr. . Gaitskell from nominating . . any more Labour life Peers no . to be made at a meeting . \n"
          ]
        },
        {
          "output_type": "display_data",
          "data": {
            "text/plain": [
              "<PIL.Image.Image image mode=RGB size=45x33 at 0x7FDE392E0DD0>"
            ],
            "image/png": "[encoded data removed]"
          },
          "metadata": {}
        },
        {
          "output_type": "display_data",
          "data": {
            "text/plain": [
              "<PIL.Image.Image image mode=RGB size=45x33 at 0x7FDE3B7A35D0>"
            ],
            "image/png": "[encoded data removed]"
          },
          "metadata": {}
        },
        {
          "output_type": "stream",
          "name": "stdout",
          "text": [
            "(33, 45)\n",
            "predicted text = a\n",
            "f\n",
            "sor-ooD Sentence Database - - - - - A nore to stor Mrr. Gaitskellfioa nominatingaav #ore tabour Vfeleersis to bemadeat a neclingodlalows \" Potomomom Mr. Michad oot has putdoma a resodlutionon the subject and he is to be backed br Mrr. mi Gviththsr \" # for Mandatorlerdasgh - - - - \" MovE to stop Mr. . Gaitskell from nominating . . any more Labour life Peers o . to be made at a meeting . of Labour MP 8 tomorrow Mr . Michael Foot has put down a resolution on the subject \" . on he . o to be backed by Mr. . Will Griffiths , \" P for Manchester Exhange . - - - - - Mraraer . A MoVE to stop Mr. . Gaitskell from nominating . . any more Labour life Peers no . to be made at a meeting . af \n"
          ]
        },
        {
          "output_type": "display_data",
          "data": {
            "text/plain": [
              "<PIL.Image.Image image mode=RGB size=130x29 at 0x7FDE392B8F90>"
            ],
            "image/png": "[encoded data removed]"
          },
          "metadata": {}
        },
        {
          "output_type": "display_data",
          "data": {
            "text/plain": [
              "<PIL.Image.Image image mode=RGB size=130x29 at 0x7FDE3B9A1F10>"
            ],
            "image/png": "[encoded data removed]"
          },
          "metadata": {}
        },
        {
          "output_type": "stream",
          "name": "stdout",
          "text": [
            "(29, 130)\n",
            "predicted text = L\n",
            "a\n",
            "b\n",
            "o\n",
            "u\n",
            "r\n",
            "sor-ooD Sentence Database - - - - - A nore to stor Mrr. Gaitskellfioa nominatingaav #ore tabour Vfeleersis to bemadeat a neclingodlalows \" Potomomom Mr. Michad oot has putdoma a resodlutionon the subject and he is to be backed br Mrr. mi Gviththsr \" # for Mandatorlerdasgh - - - - \" MovE to stop Mr. . Gaitskell from nominating . . any more Labour life Peers o . to be made at a meeting . of Labour MP 8 tomorrow Mr . Michael Foot has put down a resolution on the subject \" . on he . o to be backed by Mr. . Will Griffiths , \" P for Manchester Exhange . - - - - - Mraraer . A MoVE to stop Mr. . Gaitskell from nominating . . any more Labour life Peers no . to be made at a meeting . af Labour \n"
          ]
        },
        {
          "output_type": "display_data",
          "data": {
            "text/plain": [
              "<PIL.Image.Image image mode=RGB size=59x23 at 0x7FDE3B791690>"
            ],
            "image/png": "[encoded data removed]"
          },
          "metadata": {}
        },
        {
          "output_type": "display_data",
          "data": {
            "text/plain": [
              "<PIL.Image.Image image mode=RGB size=59x23 at 0x7FDE3BD6F190>"
            ],
            "image/png": "[encoded data removed]"
          },
          "metadata": {}
        },
        {
          "output_type": "stream",
          "name": "stdout",
          "text": [
            "(23, 59)\n",
            "predicted text = M\n",
            "P\n",
            "sor-ooD Sentence Database - - - - - A nore to stor Mrr. Gaitskellfioa nominatingaav #ore tabour Vfeleersis to bemadeat a neclingodlalows \" Potomomom Mr. Michad oot has putdoma a resodlutionon the subject and he is to be backed br Mrr. mi Gviththsr \" # for Mandatorlerdasgh - - - - \" MovE to stop Mr. . Gaitskell from nominating . . any more Labour life Peers o . to be made at a meeting . of Labour MP 8 tomorrow Mr . Michael Foot has put down a resolution on the subject \" . on he . o to be backed by Mr. . Will Griffiths , \" P for Manchester Exhange . - - - - - Mraraer . A MoVE to stop Mr. . Gaitskell from nominating . . any more Labour life Peers no . to be made at a meeting . af Labour MP \n"
          ]
        },
        {
          "output_type": "display_data",
          "data": {
            "text/plain": [
              "<PIL.Image.Image image mode=RGB size=24x17 at 0x7FDE3BD61910>"
            ],
            "image/png": "[encoded data removed]"
          },
          "metadata": {}
        },
        {
          "output_type": "display_data",
          "data": {
            "text/plain": [
              "<PIL.Image.Image image mode=RGB size=24x17 at 0x7FDE3BE539D0>"
            ],
            "image/png": "[encoded data removed]"
          },
          "metadata": {}
        },
        {
          "output_type": "stream",
          "name": "stdout",
          "text": [
            "(17, 24)\n",
            "predicted text = 8\n",
            "sor-ooD Sentence Database - - - - - A nore to stor Mrr. Gaitskellfioa nominatingaav #ore tabour Vfeleersis to bemadeat a neclingodlalows \" Potomomom Mr. Michad oot has putdoma a resodlutionon the subject and he is to be backed br Mrr. mi Gviththsr \" # for Mandatorlerdasgh - - - - \" MovE to stop Mr. . Gaitskell from nominating . . any more Labour life Peers o . to be made at a meeting . of Labour MP 8 tomorrow Mr . Michael Foot has put down a resolution on the subject \" . on he . o to be backed by Mr. . Will Griffiths , \" P for Manchester Exhange . - - - - - Mraraer . A MoVE to stop Mr. . Gaitskell from nominating . . any more Labour life Peers no . to be made at a meeting . af Labour MP 8 \n"
          ]
        },
        {
          "output_type": "display_data",
          "data": {
            "text/plain": [
              "<PIL.Image.Image image mode=RGB size=193x25 at 0x7FDE3CF0E5D0>"
            ],
            "image/png": "[encoded data removed]"
          },
          "metadata": {}
        },
        {
          "output_type": "display_data",
          "data": {
            "text/plain": [
              "<PIL.Image.Image image mode=RGB size=193x25 at 0x7FDE3957E190>"
            ],
            "image/png": "[encoded data removed]"
          },
          "metadata": {}
        },
        {
          "output_type": "stream",
          "name": "stdout",
          "text": [
            "(25, 193)\n",
            "predicted text = t\n",
            "o\n",
            "m\n",
            "o\n",
            "r\n",
            "r\n",
            "o\n",
            "w\n",
            ".\n",
            "sor-ooD Sentence Database - - - - - A nore to stor Mrr. Gaitskellfioa nominatingaav #ore tabour Vfeleersis to bemadeat a neclingodlalows \" Potomomom Mr. Michad oot has putdoma a resodlutionon the subject and he is to be backed br Mrr. mi Gviththsr \" # for Mandatorlerdasgh - - - - \" MovE to stop Mr. . Gaitskell from nominating . . any more Labour life Peers o . to be made at a meeting . of Labour MP 8 tomorrow Mr . Michael Foot has put down a resolution on the subject \" . on he . o to be backed by Mr. . Will Griffiths , \" P for Manchester Exhange . - - - - - Mraraer . A MoVE to stop Mr. . Gaitskell from nominating . . any more Labour life Peers no . to be made at a meeting . af Labour MP 8 tomorrow. \n"
          ]
        },
        {
          "output_type": "display_data",
          "data": {
            "text/plain": [
              "<PIL.Image.Image image mode=RGB size=67x27 at 0x7FDE3BE533D0>"
            ],
            "image/png": "[encoded data removed]"
          },
          "metadata": {}
        },
        {
          "output_type": "display_data",
          "data": {
            "text/plain": [
              "<PIL.Image.Image image mode=RGB size=67x27 at 0x7FDE3BE75C90>"
            ],
            "image/png": "[encoded data removed]"
          },
          "metadata": {}
        },
        {
          "output_type": "stream",
          "name": "stdout",
          "text": [
            "(27, 67)\n",
            "predicted text = M\n",
            "r\n",
            "sor-ooD Sentence Database - - - - - A nore to stor Mrr. Gaitskellfioa nominatingaav #ore tabour Vfeleersis to bemadeat a neclingodlalows \" Potomomom Mr. Michad oot has putdoma a resodlutionon the subject and he is to be backed br Mrr. mi Gviththsr \" # for Mandatorlerdasgh - - - - \" MovE to stop Mr. . Gaitskell from nominating . . any more Labour life Peers o . to be made at a meeting . of Labour MP 8 tomorrow Mr . Michael Foot has put down a resolution on the subject \" . on he . o to be backed by Mr. . Will Griffiths , \" P for Manchester Exhange . - - - - - Mraraer . A MoVE to stop Mr. . Gaitskell from nominating . . any more Labour life Peers no . to be made at a meeting . af Labour MP 8 tomorrow. Mr \n"
          ]
        },
        {
          "output_type": "display_data",
          "data": {
            "text/plain": [
              "<PIL.Image.Image image mode=RGB size=12x6 at 0x7FDE3958FE50>"
            ],
            "image/png": "[encoded data removed]"
          },
          "metadata": {}
        },
        {
          "output_type": "display_data",
          "data": {
            "text/plain": [
              "<PIL.Image.Image image mode=RGB size=12x6 at 0x7FDE3CC61690>"
            ],
            "image/png": "[encoded data removed]"
          },
          "metadata": {}
        },
        {
          "output_type": "stream",
          "name": "stdout",
          "text": [
            "(6, 12)\n",
            "predicted text = .\n",
            "sor-ooD Sentence Database - - - - - A nore to stor Mrr. Gaitskellfioa nominatingaav #ore tabour Vfeleersis to bemadeat a neclingodlalows \" Potomomom Mr. Michad oot has putdoma a resodlutionon the subject and he is to be backed br Mrr. mi Gviththsr \" # for Mandatorlerdasgh - - - - \" MovE to stop Mr. . Gaitskell from nominating . . any more Labour life Peers o . to be made at a meeting . of Labour MP 8 tomorrow Mr . Michael Foot has put down a resolution on the subject \" . on he . o to be backed by Mr. . Will Griffiths , \" P for Manchester Exhange . - - - - - Mraraer . A MoVE to stop Mr. . Gaitskell from nominating . . any more Labour life Peers no . to be made at a meeting . af Labour MP 8 tomorrow. Mr . \n"
          ]
        },
        {
          "output_type": "display_data",
          "data": {
            "text/plain": [
              "<PIL.Image.Image image mode=RGB size=139x26 at 0x7FDE3C0D9ED0>"
            ],
            "image/png": "[encoded data removed]"
          },
          "metadata": {}
        },
        {
          "output_type": "display_data",
          "data": {
            "text/plain": [
              "<PIL.Image.Image image mode=RGB size=139x26 at 0x7FDE3B9F10D0>"
            ],
            "image/png": "[encoded data removed]"
          },
          "metadata": {}
        },
        {
          "output_type": "stream",
          "name": "stdout",
          "text": [
            "(26, 139)\n",
            "predicted text = M\n",
            "i\n",
            "c\n",
            "h\n",
            "a\n",
            "e\n",
            "l\n",
            "sor-ooD Sentence Database - - - - - A nore to stor Mrr. Gaitskellfioa nominatingaav #ore tabour Vfeleersis to bemadeat a neclingodlalows \" Potomomom Mr. Michad oot has putdoma a resodlutionon the subject and he is to be backed br Mrr. mi Gviththsr \" # for Mandatorlerdasgh - - - - \" MovE to stop Mr. . Gaitskell from nominating . . any more Labour life Peers o . to be made at a meeting . of Labour MP 8 tomorrow Mr . Michael Foot has put down a resolution on the subject \" . on he . o to be backed by Mr. . Will Griffiths , \" P for Manchester Exhange . - - - - - Mraraer . A MoVE to stop Mr. . Gaitskell from nominating . . any more Labour life Peers no . to be made at a meeting . af Labour MP 8 tomorrow. Mr . Michael \n"
          ]
        },
        {
          "output_type": "display_data",
          "data": {
            "text/plain": [
              "<PIL.Image.Image image mode=RGB size=84x28 at 0x7FDE388D7350>"
            ],
            "image/png": "[encoded data removed]"
          },
          "metadata": {}
        },
        {
          "output_type": "display_data",
          "data": {
            "text/plain": [
              "<PIL.Image.Image image mode=RGB size=84x28 at 0x7FDE3C0BD6D0>"
            ],
            "image/png": "[encoded data removed]"
          },
          "metadata": {}
        },
        {
          "output_type": "stream",
          "name": "stdout",
          "text": [
            "(28, 84)\n",
            "predicted text = F\n",
            "o\n",
            "o\n",
            "t\n",
            "sor-ooD Sentence Database - - - - - A nore to stor Mrr. Gaitskellfioa nominatingaav #ore tabour Vfeleersis to bemadeat a neclingodlalows \" Potomomom Mr. Michad oot has putdoma a resodlutionon the subject and he is to be backed br Mrr. mi Gviththsr \" # for Mandatorlerdasgh - - - - \" MovE to stop Mr. . Gaitskell from nominating . . any more Labour life Peers o . to be made at a meeting . of Labour MP 8 tomorrow Mr . Michael Foot has put down a resolution on the subject \" . on he . o to be backed by Mr. . Will Griffiths , \" P for Manchester Exhange . - - - - - Mraraer . A MoVE to stop Mr. . Gaitskell from nominating . . any more Labour life Peers no . to be made at a meeting . af Labour MP 8 tomorrow. Mr . Michael Foot \n"
          ]
        },
        {
          "output_type": "display_data",
          "data": {
            "text/plain": [
              "<PIL.Image.Image image mode=RGB size=60x17 at 0x7FDE3CC20E90>"
            ],
            "image/png": "[encoded data removed]"
          },
          "metadata": {}
        },
        {
          "output_type": "display_data",
          "data": {
            "text/plain": [
              "<PIL.Image.Image image mode=RGB size=60x17 at 0x7FDE3C427550>"
            ],
            "image/png": "[encoded data removed]"
          },
          "metadata": {}
        },
        {
          "output_type": "stream",
          "name": "stdout",
          "text": [
            "(17, 60)\n",
            "predicted text = s\n",
            "a\n",
            "s\n",
            "sor-ooD Sentence Database - - - - - A nore to stor Mrr. Gaitskellfioa nominatingaav #ore tabour Vfeleersis to bemadeat a neclingodlalows \" Potomomom Mr. Michad oot has putdoma a resodlutionon the subject and he is to be backed br Mrr. mi Gviththsr \" # for Mandatorlerdasgh - - - - \" MovE to stop Mr. . Gaitskell from nominating . . any more Labour life Peers o . to be made at a meeting . of Labour MP 8 tomorrow Mr . Michael Foot has put down a resolution on the subject \" . on he . o to be backed by Mr. . Will Griffiths , \" P for Manchester Exhange . - - - - - Mraraer . A MoVE to stop Mr. . Gaitskell from nominating . . any more Labour life Peers no . to be made at a meeting . af Labour MP 8 tomorrow. Mr . Michael Foot sas \n"
          ]
        },
        {
          "output_type": "display_data",
          "data": {
            "text/plain": [
              "<PIL.Image.Image image mode=RGB size=70x30 at 0x7FDE3C313A50>"
            ],
            "image/png": "[encoded data removed]"
          },
          "metadata": {}
        },
        {
          "output_type": "display_data",
          "data": {
            "text/plain": [
              "<PIL.Image.Image image mode=RGB size=70x30 at 0x7FDE3C144F10>"
            ],
            "image/png": "[encoded data removed]"
          },
          "metadata": {}
        },
        {
          "output_type": "stream",
          "name": "stdout",
          "text": [
            "(30, 70)\n",
            "predicted text = p\n",
            "u\n",
            "t\n",
            "sor-ooD Sentence Database - - - - - A nore to stor Mrr. Gaitskellfioa nominatingaav #ore tabour Vfeleersis to bemadeat a neclingodlalows \" Potomomom Mr. Michad oot has putdoma a resodlutionon the subject and he is to be backed br Mrr. mi Gviththsr \" # for Mandatorlerdasgh - - - - \" MovE to stop Mr. . Gaitskell from nominating . . any more Labour life Peers o . to be made at a meeting . of Labour MP 8 tomorrow Mr . Michael Foot has put down a resolution on the subject \" . on he . o to be backed by Mr. . Will Griffiths , \" P for Manchester Exhange . - - - - - Mraraer . A MoVE to stop Mr. . Gaitskell from nominating . . any more Labour life Peers no . to be made at a meeting . af Labour MP 8 tomorrow. Mr . Michael Foot sas put \n"
          ]
        },
        {
          "output_type": "display_data",
          "data": {
            "text/plain": [
              "<PIL.Image.Image image mode=RGB size=97x22 at 0x7FDE3C26CB10>"
            ],
            "image/png": "[encoded data removed]"
          },
          "metadata": {}
        },
        {
          "output_type": "display_data",
          "data": {
            "text/plain": [
              "<PIL.Image.Image image mode=RGB size=97x22 at 0x7FDE3C144190>"
            ],
            "image/png": "[encoded data removed]"
          },
          "metadata": {}
        },
        {
          "output_type": "stream",
          "name": "stdout",
          "text": [
            "(22, 97)\n",
            "predicted text = d\n",
            "o\n",
            "w\n",
            "n\n",
            "sor-ooD Sentence Database - - - - - A nore to stor Mrr. Gaitskellfioa nominatingaav #ore tabour Vfeleersis to bemadeat a neclingodlalows \" Potomomom Mr. Michad oot has putdoma a resodlutionon the subject and he is to be backed br Mrr. mi Gviththsr \" # for Mandatorlerdasgh - - - - \" MovE to stop Mr. . Gaitskell from nominating . . any more Labour life Peers o . to be made at a meeting . of Labour MP 8 tomorrow Mr . Michael Foot has put down a resolution on the subject \" . on he . o to be backed by Mr. . Will Griffiths , \" P for Manchester Exhange . - - - - - Mraraer . A MoVE to stop Mr. . Gaitskell from nominating . . any more Labour life Peers no . to be made at a meeting . af Labour MP 8 tomorrow. Mr . Michael Foot sas put down \n"
          ]
        },
        {
          "output_type": "display_data",
          "data": {
            "text/plain": [
              "<PIL.Image.Image image mode=RGB size=31x14 at 0x7FDE3C162F10>"
            ],
            "image/png": "[encoded data removed]"
          },
          "metadata": {}
        },
        {
          "output_type": "display_data",
          "data": {
            "text/plain": [
              "<PIL.Image.Image image mode=RGB size=31x14 at 0x7FDE3B8B2050>"
            ],
            "image/png": "[encoded data removed]"
          },
          "metadata": {}
        },
        {
          "output_type": "stream",
          "name": "stdout",
          "text": [
            "(14, 31)\n",
            "predicted text = a\n",
            "sor-ooD Sentence Database - - - - - A nore to stor Mrr. Gaitskellfioa nominatingaav #ore tabour Vfeleersis to bemadeat a neclingodlalows \" Potomomom Mr. Michad oot has putdoma a resodlutionon the subject and he is to be backed br Mrr. mi Gviththsr \" # for Mandatorlerdasgh - - - - \" MovE to stop Mr. . Gaitskell from nominating . . any more Labour life Peers o . to be made at a meeting . of Labour MP 8 tomorrow Mr . Michael Foot has put down a resolution on the subject \" . on he . o to be backed by Mr. . Will Griffiths , \" P for Manchester Exhange . - - - - - Mraraer . A MoVE to stop Mr. . Gaitskell from nominating . . any more Labour life Peers no . to be made at a meeting . af Labour MP 8 tomorrow. Mr . Michael Foot sas put down a \n"
          ]
        },
        {
          "output_type": "display_data",
          "data": {
            "text/plain": [
              "<PIL.Image.Image image mode=RGB size=181x24 at 0x7FDE3B8B2A10>"
            ],
            "image/png": "[encoded data removed]"
          },
          "metadata": {}
        },
        {
          "output_type": "display_data",
          "data": {
            "text/plain": [
              "<PIL.Image.Image image mode=RGB size=181x24 at 0x7FDE388B0FD0>"
            ],
            "image/png": "[encoded data removed]"
          },
          "metadata": {}
        },
        {
          "output_type": "stream",
          "name": "stdout",
          "text": [
            "(24, 181)\n",
            "predicted text = v\n",
            "e\n",
            "s\n",
            "o\n",
            "l\n",
            "u\n",
            "t\n",
            "i\n",
            "o\n",
            "n\n",
            "sor-ooD Sentence Database - - - - - A nore to stor Mrr. Gaitskellfioa nominatingaav #ore tabour Vfeleersis to bemadeat a neclingodlalows \" Potomomom Mr. Michad oot has putdoma a resodlutionon the subject and he is to be backed br Mrr. mi Gviththsr \" # for Mandatorlerdasgh - - - - \" MovE to stop Mr. . Gaitskell from nominating . . any more Labour life Peers o . to be made at a meeting . of Labour MP 8 tomorrow Mr . Michael Foot has put down a resolution on the subject \" . on he . o to be backed by Mr. . Will Griffiths , \" P for Manchester Exhange . - - - - - Mraraer . A MoVE to stop Mr. . Gaitskell from nominating . . any more Labour life Peers no . to be made at a meeting . af Labour MP 8 tomorrow. Mr . Michael Foot sas put down a vesolution \n"
          ]
        },
        {
          "output_type": "display_data",
          "data": {
            "text/plain": [
              "<PIL.Image.Image image mode=RGB size=39x16 at 0x7FDE388B0790>"
            ],
            "image/png": "[encoded data removed]"
          },
          "metadata": {}
        },
        {
          "output_type": "display_data",
          "data": {
            "text/plain": [
              "<PIL.Image.Image image mode=RGB size=39x16 at 0x7FDE3D1560D0>"
            ],
            "image/png": "[encoded data removed]"
          },
          "metadata": {}
        },
        {
          "output_type": "stream",
          "name": "stdout",
          "text": [
            "(16, 39)\n",
            "predicted text = o\n",
            "n\n",
            "sor-ooD Sentence Database - - - - - A nore to stor Mrr. Gaitskellfioa nominatingaav #ore tabour Vfeleersis to bemadeat a neclingodlalows \" Potomomom Mr. Michad oot has putdoma a resodlutionon the subject and he is to be backed br Mrr. mi Gviththsr \" # for Mandatorlerdasgh - - - - \" MovE to stop Mr. . Gaitskell from nominating . . any more Labour life Peers o . to be made at a meeting . of Labour MP 8 tomorrow Mr . Michael Foot has put down a resolution on the subject \" . on he . o to be backed by Mr. . Will Griffiths , \" P for Manchester Exhange . - - - - - Mraraer . A MoVE to stop Mr. . Gaitskell from nominating . . any more Labour life Peers no . to be made at a meeting . af Labour MP 8 tomorrow. Mr . Michael Foot sas put down a vesolution on \n"
          ]
        },
        {
          "output_type": "display_data",
          "data": {
            "text/plain": [
              "<PIL.Image.Image image mode=RGB size=75x25 at 0x7FDE3C105990>"
            ],
            "image/png": "[encoded data removed]"
          },
          "metadata": {}
        },
        {
          "output_type": "display_data",
          "data": {
            "text/plain": [
              "<PIL.Image.Image image mode=RGB size=75x25 at 0x7FDE3889A850>"
            ],
            "image/png": "[encoded data removed]"
          },
          "metadata": {}
        },
        {
          "output_type": "stream",
          "name": "stdout",
          "text": [
            "(25, 75)\n",
            "predicted text = t\n",
            "h\n",
            "e\n",
            "sor-ooD Sentence Database - - - - - A nore to stor Mrr. Gaitskellfioa nominatingaav #ore tabour Vfeleersis to bemadeat a neclingodlalows \" Potomomom Mr. Michad oot has putdoma a resodlutionon the subject and he is to be backed br Mrr. mi Gviththsr \" # for Mandatorlerdasgh - - - - \" MovE to stop Mr. . Gaitskell from nominating . . any more Labour life Peers o . to be made at a meeting . of Labour MP 8 tomorrow Mr . Michael Foot has put down a resolution on the subject \" . on he . o to be backed by Mr. . Will Griffiths , \" P for Manchester Exhange . - - - - - Mraraer . A MoVE to stop Mr. . Gaitskell from nominating . . any more Labour life Peers no . to be made at a meeting . af Labour MP 8 tomorrow. Mr . Michael Foot sas put down a vesolution on the \n"
          ]
        },
        {
          "output_type": "display_data",
          "data": {
            "text/plain": [
              "<PIL.Image.Image image mode=RGB size=136x39 at 0x7FDE3CFF4CD0>"
            ],
            "image/png": "[encoded data removed]"
          },
          "metadata": {}
        },
        {
          "output_type": "display_data",
          "data": {
            "text/plain": [
              "<PIL.Image.Image image mode=RGB size=136x39 at 0x7FDE385C1D10>"
            ],
            "image/png": "[encoded data removed]"
          },
          "metadata": {}
        },
        {
          "output_type": "stream",
          "name": "stdout",
          "text": [
            "(39, 136)\n",
            "predicted text = s\n",
            "u\n",
            "b\n",
            "j\n",
            "e\n",
            "c\n",
            "t\n",
            "sor-ooD Sentence Database - - - - - A nore to stor Mrr. Gaitskellfioa nominatingaav #ore tabour Vfeleersis to bemadeat a neclingodlalows \" Potomomom Mr. Michad oot has putdoma a resodlutionon the subject and he is to be backed br Mrr. mi Gviththsr \" # for Mandatorlerdasgh - - - - \" MovE to stop Mr. . Gaitskell from nominating . . any more Labour life Peers o . to be made at a meeting . of Labour MP 8 tomorrow Mr . Michael Foot has put down a resolution on the subject \" . on he . o to be backed by Mr. . Will Griffiths , \" P for Manchester Exhange . - - - - - Mraraer . A MoVE to stop Mr. . Gaitskell from nominating . . any more Labour life Peers no . to be made at a meeting . af Labour MP 8 tomorrow. Mr . Michael Foot sas put down a vesolution on the subject \n"
          ]
        },
        {
          "output_type": "display_data",
          "data": {
            "text/plain": [
              "<PIL.Image.Image image mode=RGB size=14x8 at 0x7FDE3889ACD0>"
            ],
            "image/png": "[encoded data removed]"
          },
          "metadata": {}
        },
        {
          "output_type": "display_data",
          "data": {
            "text/plain": [
              "<PIL.Image.Image image mode=RGB size=14x8 at 0x7FDE3C137A50>"
            ],
            "image/png": "[encoded data removed]"
          },
          "metadata": {}
        },
        {
          "output_type": "stream",
          "name": "stdout",
          "text": [
            "(8, 14)\n",
            "predicted text = .\n",
            "sor-ooD Sentence Database - - - - - A nore to stor Mrr. Gaitskellfioa nominatingaav #ore tabour Vfeleersis to bemadeat a neclingodlalows \" Potomomom Mr. Michad oot has putdoma a resodlutionon the subject and he is to be backed br Mrr. mi Gviththsr \" # for Mandatorlerdasgh - - - - \" MovE to stop Mr. . Gaitskell from nominating . . any more Labour life Peers o . to be made at a meeting . of Labour MP 8 tomorrow Mr . Michael Foot has put down a resolution on the subject \" . on he . o to be backed by Mr. . Will Griffiths , \" P for Manchester Exhange . - - - - - Mraraer . A MoVE to stop Mr. . Gaitskell from nominating . . any more Labour life Peers no . to be made at a meeting . af Labour MP 8 tomorrow. Mr . Michael Foot sas put down a vesolution on the subject . \n"
          ]
        },
        {
          "output_type": "display_data",
          "data": {
            "text/plain": [
              "<PIL.Image.Image image mode=RGB size=12x7 at 0x7FDE3CB57310>"
            ],
            "image/png": "[encoded data removed]"
          },
          "metadata": {}
        },
        {
          "output_type": "display_data",
          "data": {
            "text/plain": [
              "<PIL.Image.Image image mode=RGB size=12x7 at 0x7FDE3889BB10>"
            ],
            "image/png": "[encoded data removed]"
          },
          "metadata": {}
        },
        {
          "output_type": "stream",
          "name": "stdout",
          "text": [
            "(7, 12)\n",
            "predicted text = .\n",
            "sor-ooD Sentence Database - - - - - A nore to stor Mrr. Gaitskellfioa nominatingaav #ore tabour Vfeleersis to bemadeat a neclingodlalows \" Potomomom Mr. Michad oot has putdoma a resodlutionon the subject and he is to be backed br Mrr. mi Gviththsr \" # for Mandatorlerdasgh - - - - \" MovE to stop Mr. . Gaitskell from nominating . . any more Labour life Peers o . to be made at a meeting . of Labour MP 8 tomorrow Mr . Michael Foot has put down a resolution on the subject \" . on he . o to be backed by Mr. . Will Griffiths , \" P for Manchester Exhange . - - - - - Mraraer . A MoVE to stop Mr. . Gaitskell from nominating . . any more Labour life Peers no . to be made at a meeting . af Labour MP 8 tomorrow. Mr . Michael Foot sas put down a vesolution on the subject . . \n"
          ]
        },
        {
          "output_type": "display_data",
          "data": {
            "text/plain": [
              "<PIL.Image.Image image mode=RGB size=85x23 at 0x7FDE3B8B47D0>"
            ],
            "image/png": "[encoded data removed]"
          },
          "metadata": {}
        },
        {
          "output_type": "display_data",
          "data": {
            "text/plain": [
              "<PIL.Image.Image image mode=RGB size=85x23 at 0x7FDE3CAE3B90>"
            ],
            "image/png": "[encoded data removed]"
          },
          "metadata": {}
        },
        {
          "output_type": "stream",
          "name": "stdout",
          "text": [
            "(23, 85)\n",
            "predicted text = o\n",
            "n\n",
            "sor-ooD Sentence Database - - - - - A nore to stor Mrr. Gaitskellfioa nominatingaav #ore tabour Vfeleersis to bemadeat a neclingodlalows \" Potomomom Mr. Michad oot has putdoma a resodlutionon the subject and he is to be backed br Mrr. mi Gviththsr \" # for Mandatorlerdasgh - - - - \" MovE to stop Mr. . Gaitskell from nominating . . any more Labour life Peers o . to be made at a meeting . of Labour MP 8 tomorrow Mr . Michael Foot has put down a resolution on the subject \" . on he . o to be backed by Mr. . Will Griffiths , \" P for Manchester Exhange . - - - - - Mraraer . A MoVE to stop Mr. . Gaitskell from nominating . . any more Labour life Peers no . to be made at a meeting . af Labour MP 8 tomorrow. Mr . Michael Foot sas put down a vesolution on the subject . . on \n"
          ]
        },
        {
          "output_type": "display_data",
          "data": {
            "text/plain": [
              "<PIL.Image.Image image mode=RGB size=59x20 at 0x7FDE3CB0FCD0>"
            ],
            "image/png": "[encoded data removed]"
          },
          "metadata": {}
        },
        {
          "output_type": "display_data",
          "data": {
            "text/plain": [
              "<PIL.Image.Image image mode=RGB size=59x20 at 0x7FDE3C0A5590>"
            ],
            "image/png": "[encoded data removed]"
          },
          "metadata": {}
        },
        {
          "output_type": "stream",
          "name": "stdout",
          "text": [
            "(20, 59)\n",
            "predicted text = h\n",
            "e\n",
            "sor-ooD Sentence Database - - - - - A nore to stor Mrr. Gaitskellfioa nominatingaav #ore tabour Vfeleersis to bemadeat a neclingodlalows \" Potomomom Mr. Michad oot has putdoma a resodlutionon the subject and he is to be backed br Mrr. mi Gviththsr \" # for Mandatorlerdasgh - - - - \" MovE to stop Mr. . Gaitskell from nominating . . any more Labour life Peers o . to be made at a meeting . of Labour MP 8 tomorrow Mr . Michael Foot has put down a resolution on the subject \" . on he . o to be backed by Mr. . Will Griffiths , \" P for Manchester Exhange . - - - - - Mraraer . A MoVE to stop Mr. . Gaitskell from nominating . . any more Labour life Peers no . to be made at a meeting . af Labour MP 8 tomorrow. Mr . Michael Foot sas put down a vesolution on the subject . . on he \n"
          ]
        },
        {
          "output_type": "display_data",
          "data": {
            "text/plain": [
              "<PIL.Image.Image image mode=RGB size=12x5 at 0x7FDE393AADD0>"
            ],
            "image/png": "[encoded data removed]"
          },
          "metadata": {}
        },
        {
          "output_type": "display_data",
          "data": {
            "text/plain": [
              "<PIL.Image.Image image mode=RGB size=12x5 at 0x7FDE3B91B7D0>"
            ],
            "image/png": "[encoded data removed]"
          },
          "metadata": {}
        },
        {
          "output_type": "stream",
          "name": "stdout",
          "text": [
            "(5, 12)\n",
            "predicted text = .\n",
            "sor-ooD Sentence Database - - - - - A nore to stor Mrr. Gaitskellfioa nominatingaav #ore tabour Vfeleersis to bemadeat a neclingodlalows \" Potomomom Mr. Michad oot has putdoma a resodlutionon the subject and he is to be backed br Mrr. mi Gviththsr \" # for Mandatorlerdasgh - - - - \" MovE to stop Mr. . Gaitskell from nominating . . any more Labour life Peers o . to be made at a meeting . of Labour MP 8 tomorrow Mr . Michael Foot has put down a resolution on the subject \" . on he . o to be backed by Mr. . Will Griffiths , \" P for Manchester Exhange . - - - - - Mraraer . A MoVE to stop Mr. . Gaitskell from nominating . . any more Labour life Peers no . to be made at a meeting . af Labour MP 8 tomorrow. Mr . Michael Foot sas put down a vesolution on the subject . . on he . \n"
          ]
        },
        {
          "output_type": "display_data",
          "data": {
            "text/plain": [
              "<PIL.Image.Image image mode=RGB size=28x14 at 0x7FDE3B9D93D0>"
            ],
            "image/png": "[encoded data removed]"
          },
          "metadata": {}
        },
        {
          "output_type": "display_data",
          "data": {
            "text/plain": [
              "<PIL.Image.Image image mode=RGB size=28x14 at 0x7FDE3D60DF90>"
            ],
            "image/png": "[encoded data removed]"
          },
          "metadata": {}
        },
        {
          "output_type": "stream",
          "name": "stdout",
          "text": [
            "(14, 28)\n",
            "predicted text = n\n",
            "o\n",
            "sor-ooD Sentence Database - - - - - A nore to stor Mrr. Gaitskellfioa nominatingaav #ore tabour Vfeleersis to bemadeat a neclingodlalows \" Potomomom Mr. Michad oot has putdoma a resodlutionon the subject and he is to be backed br Mrr. mi Gviththsr \" # for Mandatorlerdasgh - - - - \" MovE to stop Mr. . Gaitskell from nominating . . any more Labour life Peers o . to be made at a meeting . of Labour MP 8 tomorrow Mr . Michael Foot has put down a resolution on the subject \" . on he . o to be backed by Mr. . Will Griffiths , \" P for Manchester Exhange . - - - - - Mraraer . A MoVE to stop Mr. . Gaitskell from nominating . . any more Labour life Peers no . to be made at a meeting . af Labour MP 8 tomorrow. Mr . Michael Foot sas put down a vesolution on the subject . . on he . no \n"
          ]
        },
        {
          "output_type": "display_data",
          "data": {
            "text/plain": [
              "<PIL.Image.Image image mode=RGB size=41x21 at 0x7FDE3D60D190>"
            ],
            "image/png": "[encoded data removed]"
          },
          "metadata": {}
        },
        {
          "output_type": "display_data",
          "data": {
            "text/plain": [
              "<PIL.Image.Image image mode=RGB size=41x21 at 0x7FDE3CA07DD0>"
            ],
            "image/png": "[encoded data removed]"
          },
          "metadata": {}
        },
        {
          "output_type": "stream",
          "name": "stdout",
          "text": [
            "(21, 41)\n",
            "predicted text = t\n",
            "o\n",
            "sor-ooD Sentence Database - - - - - A nore to stor Mrr. Gaitskellfioa nominatingaav #ore tabour Vfeleersis to bemadeat a neclingodlalows \" Potomomom Mr. Michad oot has putdoma a resodlutionon the subject and he is to be backed br Mrr. mi Gviththsr \" # for Mandatorlerdasgh - - - - \" MovE to stop Mr. . Gaitskell from nominating . . any more Labour life Peers o . to be made at a meeting . of Labour MP 8 tomorrow Mr . Michael Foot has put down a resolution on the subject \" . on he . o to be backed by Mr. . Will Griffiths , \" P for Manchester Exhange . - - - - - Mraraer . A MoVE to stop Mr. . Gaitskell from nominating . . any more Labour life Peers no . to be made at a meeting . af Labour MP 8 tomorrow. Mr . Michael Foot sas put down a vesolution on the subject . . on he . no to \n"
          ]
        },
        {
          "output_type": "display_data",
          "data": {
            "text/plain": [
              "<PIL.Image.Image image mode=RGB size=64x25 at 0x7FDE3BEB9250>"
            ],
            "image/png": "[encoded data removed]"
          },
          "metadata": {}
        },
        {
          "output_type": "display_data",
          "data": {
            "text/plain": [
              "<PIL.Image.Image image mode=RGB size=64x25 at 0x7FDE3B9083D0>"
            ],
            "image/png": "[encoded data removed]"
          },
          "metadata": {}
        },
        {
          "output_type": "stream",
          "name": "stdout",
          "text": [
            "(25, 64)\n",
            "predicted text = b\n",
            "e\n",
            "sor-ooD Sentence Database - - - - - A nore to stor Mrr. Gaitskellfioa nominatingaav #ore tabour Vfeleersis to bemadeat a neclingodlalows \" Potomomom Mr. Michad oot has putdoma a resodlutionon the subject and he is to be backed br Mrr. mi Gviththsr \" # for Mandatorlerdasgh - - - - \" MovE to stop Mr. . Gaitskell from nominating . . any more Labour life Peers o . to be made at a meeting . of Labour MP 8 tomorrow Mr . Michael Foot has put down a resolution on the subject \" . on he . o to be backed by Mr. . Will Griffiths , \" P for Manchester Exhange . - - - - - Mraraer . A MoVE to stop Mr. . Gaitskell from nominating . . any more Labour life Peers no . to be made at a meeting . af Labour MP 8 tomorrow. Mr . Michael Foot sas put down a vesolution on the subject . . on he . no to be \n"
          ]
        },
        {
          "output_type": "display_data",
          "data": {
            "text/plain": [
              "<PIL.Image.Image image mode=RGB size=133x22 at 0x7FDE3C0864D0>"
            ],
            "image/png": "[encoded data removed]"
          },
          "metadata": {}
        },
        {
          "output_type": "display_data",
          "data": {
            "text/plain": [
              "<PIL.Image.Image image mode=RGB size=133x22 at 0x7FDE3B91AC90>"
            ],
            "image/png": "[encoded data removed]"
          },
          "metadata": {}
        },
        {
          "output_type": "stream",
          "name": "stdout",
          "text": [
            "(22, 133)\n",
            "predicted text = b\n",
            "a\n",
            "c\n",
            "k\n",
            "e\n",
            "d\n",
            "sor-ooD Sentence Database - - - - - A nore to stor Mrr. Gaitskellfioa nominatingaav #ore tabour Vfeleersis to bemadeat a neclingodlalows \" Potomomom Mr. Michad oot has putdoma a resodlutionon the subject and he is to be backed br Mrr. mi Gviththsr \" # for Mandatorlerdasgh - - - - \" MovE to stop Mr. . Gaitskell from nominating . . any more Labour life Peers o . to be made at a meeting . of Labour MP 8 tomorrow Mr . Michael Foot has put down a resolution on the subject \" . on he . o to be backed by Mr. . Will Griffiths , \" P for Manchester Exhange . - - - - - Mraraer . A MoVE to stop Mr. . Gaitskell from nominating . . any more Labour life Peers no . to be made at a meeting . af Labour MP 8 tomorrow. Mr . Michael Foot sas put down a vesolution on the subject . . on he . no to be backed \n"
          ]
        },
        {
          "output_type": "display_data",
          "data": {
            "text/plain": [
              "<PIL.Image.Image image mode=RGB size=48x27 at 0x7FDE3C0B6790>"
            ],
            "image/png": "[encoded data removed]"
          },
          "metadata": {}
        },
        {
          "output_type": "display_data",
          "data": {
            "text/plain": [
              "<PIL.Image.Image image mode=RGB size=48x27 at 0x7FDE3880FC50>"
            ],
            "image/png": "[encoded data removed]"
          },
          "metadata": {}
        },
        {
          "output_type": "stream",
          "name": "stdout",
          "text": [
            "(27, 48)\n",
            "predicted text = b\n",
            "y\n",
            "sor-ooD Sentence Database - - - - - A nore to stor Mrr. Gaitskellfioa nominatingaav #ore tabour Vfeleersis to bemadeat a neclingodlalows \" Potomomom Mr. Michad oot has putdoma a resodlutionon the subject and he is to be backed br Mrr. mi Gviththsr \" # for Mandatorlerdasgh - - - - \" MovE to stop Mr. . Gaitskell from nominating . . any more Labour life Peers o . to be made at a meeting . of Labour MP 8 tomorrow Mr . Michael Foot has put down a resolution on the subject \" . on he . o to be backed by Mr. . Will Griffiths , \" P for Manchester Exhange . - - - - - Mraraer . A MoVE to stop Mr. . Gaitskell from nominating . . any more Labour life Peers no . to be made at a meeting . af Labour MP 8 tomorrow. Mr . Michael Foot sas put down a vesolution on the subject . . on he . no to be backed by \n"
          ]
        },
        {
          "output_type": "display_data",
          "data": {
            "text/plain": [
              "<PIL.Image.Image image mode=RGB size=57x24 at 0x7FDE38E748D0>"
            ],
            "image/png": "[encoded data removed]"
          },
          "metadata": {}
        },
        {
          "output_type": "display_data",
          "data": {
            "text/plain": [
              "<PIL.Image.Image image mode=RGB size=57x24 at 0x7FDE3BDF59D0>"
            ],
            "image/png": "[encoded data removed]"
          },
          "metadata": {}
        },
        {
          "output_type": "stream",
          "name": "stdout",
          "text": [
            "(24, 57)\n",
            "predicted text = M\n",
            "r\n",
            ".\n",
            "sor-ooD Sentence Database - - - - - A nore to stor Mrr. Gaitskellfioa nominatingaav #ore tabour Vfeleersis to bemadeat a neclingodlalows \" Potomomom Mr. Michad oot has putdoma a resodlutionon the subject and he is to be backed br Mrr. mi Gviththsr \" # for Mandatorlerdasgh - - - - \" MovE to stop Mr. . Gaitskell from nominating . . any more Labour life Peers o . to be made at a meeting . of Labour MP 8 tomorrow Mr . Michael Foot has put down a resolution on the subject \" . on he . o to be backed by Mr. . Will Griffiths , \" P for Manchester Exhange . - - - - - Mraraer . A MoVE to stop Mr. . Gaitskell from nominating . . any more Labour life Peers no . to be made at a meeting . af Labour MP 8 tomorrow. Mr . Michael Foot sas put down a vesolution on the subject . . on he . no to be backed by Mr. \n"
          ]
        },
        {
          "output_type": "display_data",
          "data": {
            "text/plain": [
              "<PIL.Image.Image image mode=RGB size=13x8 at 0x7FDE3D04F1D0>"
            ],
            "image/png": "[encoded data removed]"
          },
          "metadata": {}
        },
        {
          "output_type": "display_data",
          "data": {
            "text/plain": [
              "<PIL.Image.Image image mode=RGB size=13x8 at 0x7FDE3C463D10>"
            ],
            "image/png": "[encoded data removed]"
          },
          "metadata": {}
        },
        {
          "output_type": "stream",
          "name": "stdout",
          "text": [
            "(8, 13)\n",
            "predicted text = .\n",
            "sor-ooD Sentence Database - - - - - A nore to stor Mrr. Gaitskellfioa nominatingaav #ore tabour Vfeleersis to bemadeat a neclingodlalows \" Potomomom Mr. Michad oot has putdoma a resodlutionon the subject and he is to be backed br Mrr. mi Gviththsr \" # for Mandatorlerdasgh - - - - \" MovE to stop Mr. . Gaitskell from nominating . . any more Labour life Peers o . to be made at a meeting . of Labour MP 8 tomorrow Mr . Michael Foot has put down a resolution on the subject \" . on he . o to be backed by Mr. . Will Griffiths , \" P for Manchester Exhange . - - - - - Mraraer . A MoVE to stop Mr. . Gaitskell from nominating . . any more Labour life Peers no . to be made at a meeting . af Labour MP 8 tomorrow. Mr . Michael Foot sas put down a vesolution on the subject . . on he . no to be backed by Mr. . \n"
          ]
        },
        {
          "output_type": "display_data",
          "data": {
            "text/plain": [
              "<PIL.Image.Image image mode=RGB size=67x25 at 0x7FDE3BDF5E10>"
            ],
            "image/png": "[encoded data removed]"
          },
          "metadata": {}
        },
        {
          "output_type": "display_data",
          "data": {
            "text/plain": [
              "<PIL.Image.Image image mode=RGB size=67x25 at 0x7FDE3BE1E4D0>"
            ],
            "image/png": "[encoded data removed]"
          },
          "metadata": {}
        },
        {
          "output_type": "stream",
          "name": "stdout",
          "text": [
            "(25, 67)\n",
            "predicted text = W\n",
            "i\n",
            "l\n",
            "l\n",
            "sor-ooD Sentence Database - - - - - A nore to stor Mrr. Gaitskellfioa nominatingaav #ore tabour Vfeleersis to bemadeat a neclingodlalows \" Potomomom Mr. Michad oot has putdoma a resodlutionon the subject and he is to be backed br Mrr. mi Gviththsr \" # for Mandatorlerdasgh - - - - \" MovE to stop Mr. . Gaitskell from nominating . . any more Labour life Peers o . to be made at a meeting . of Labour MP 8 tomorrow Mr . Michael Foot has put down a resolution on the subject \" . on he . o to be backed by Mr. . Will Griffiths , \" P for Manchester Exhange . - - - - - Mraraer . A MoVE to stop Mr. . Gaitskell from nominating . . any more Labour life Peers no . to be made at a meeting . af Labour MP 8 tomorrow. Mr . Michael Foot sas put down a vesolution on the subject . . on he . no to be backed by Mr. . Will \n"
          ]
        },
        {
          "output_type": "display_data",
          "data": {
            "text/plain": [
              "<PIL.Image.Image image mode=RGB size=150x30 at 0x7FDE3B906D10>"
            ],
            "image/png": "[encoded data removed]"
          },
          "metadata": {}
        },
        {
          "output_type": "display_data",
          "data": {
            "text/plain": [
              "<PIL.Image.Image image mode=RGB size=150x30 at 0x7FDE392FF2D0>"
            ],
            "image/png": "[encoded data removed]"
          },
          "metadata": {}
        },
        {
          "output_type": "stream",
          "name": "stdout",
          "text": [
            "(30, 150)\n",
            "predicted text = G\n",
            "r\n",
            "i\n",
            "f\n",
            "f\n",
            "i\n",
            "t\n",
            "h\n",
            "s\n",
            "sor-ooD Sentence Database - - - - - A nore to stor Mrr. Gaitskellfioa nominatingaav #ore tabour Vfeleersis to bemadeat a neclingodlalows \" Potomomom Mr. Michad oot has putdoma a resodlutionon the subject and he is to be backed br Mrr. mi Gviththsr \" # for Mandatorlerdasgh - - - - \" MovE to stop Mr. . Gaitskell from nominating . . any more Labour life Peers o . to be made at a meeting . of Labour MP 8 tomorrow Mr . Michael Foot has put down a resolution on the subject \" . on he . o to be backed by Mr. . Will Griffiths , \" P for Manchester Exhange . - - - - - Mraraer . A MoVE to stop Mr. . Gaitskell from nominating . . any more Labour life Peers no . to be made at a meeting . af Labour MP 8 tomorrow. Mr . Michael Foot sas put down a vesolution on the subject . . on he . no to be backed by Mr. . Will Griffiths \n"
          ]
        },
        {
          "output_type": "display_data",
          "data": {
            "text/plain": [
              "<PIL.Image.Image image mode=RGB size=15x16 at 0x7FDE3C0B1F10>"
            ],
            "image/png": "[encoded data removed]"
          },
          "metadata": {}
        },
        {
          "output_type": "display_data",
          "data": {
            "text/plain": [
              "<PIL.Image.Image image mode=RGB size=15x16 at 0x7FDE392FF690>"
            ],
            "image/png": "[encoded data removed]"
          },
          "metadata": {}
        },
        {
          "output_type": "stream",
          "name": "stdout",
          "text": [
            "(16, 15)\n",
            "predicted text = ,\n",
            "sor-ooD Sentence Database - - - - - A nore to stor Mrr. Gaitskellfioa nominatingaav #ore tabour Vfeleersis to bemadeat a neclingodlalows \" Potomomom Mr. Michad oot has putdoma a resodlutionon the subject and he is to be backed br Mrr. mi Gviththsr \" # for Mandatorlerdasgh - - - - \" MovE to stop Mr. . Gaitskell from nominating . . any more Labour life Peers o . to be made at a meeting . of Labour MP 8 tomorrow Mr . Michael Foot has put down a resolution on the subject \" . on he . o to be backed by Mr. . Will Griffiths , \" P for Manchester Exhange . - - - - - Mraraer . A MoVE to stop Mr. . Gaitskell from nominating . . any more Labour life Peers no . to be made at a meeting . af Labour MP 8 tomorrow. Mr . Michael Foot sas put down a vesolution on the subject . . on he . no to be backed by Mr. . Will Griffiths , \n"
          ]
        },
        {
          "output_type": "display_data",
          "data": {
            "text/plain": [
              "<PIL.Image.Image image mode=RGB size=33x24 at 0x7FDE3C090790>"
            ],
            "image/png": "[encoded data removed]"
          },
          "metadata": {}
        },
        {
          "output_type": "display_data",
          "data": {
            "text/plain": [
              "<PIL.Image.Image image mode=RGB size=33x24 at 0x7FDE392FFA90>"
            ],
            "image/png": "[encoded data removed]"
          },
          "metadata": {}
        },
        {
          "output_type": "stream",
          "name": "stdout",
          "text": [
            "(24, 33)\n",
            "predicted text = \"\n",
            "sor-ooD Sentence Database - - - - - A nore to stor Mrr. Gaitskellfioa nominatingaav #ore tabour Vfeleersis to bemadeat a neclingodlalows \" Potomomom Mr. Michad oot has putdoma a resodlutionon the subject and he is to be backed br Mrr. mi Gviththsr \" # for Mandatorlerdasgh - - - - \" MovE to stop Mr. . Gaitskell from nominating . . any more Labour life Peers o . to be made at a meeting . of Labour MP 8 tomorrow Mr . Michael Foot has put down a resolution on the subject \" . on he . o to be backed by Mr. . Will Griffiths , \" P for Manchester Exhange . - - - - - Mraraer . A MoVE to stop Mr. . Gaitskell from nominating . . any more Labour life Peers no . to be made at a meeting . af Labour MP 8 tomorrow. Mr . Michael Foot sas put down a vesolution on the subject . . on he . no to be backed by Mr. . Will Griffiths , \" \n"
          ]
        },
        {
          "output_type": "display_data",
          "data": {
            "text/plain": [
              "<PIL.Image.Image image mode=RGB size=39x27 at 0x7FDE3D108A90>"
            ],
            "image/png": "[encoded data removed]"
          },
          "metadata": {}
        },
        {
          "output_type": "display_data",
          "data": {
            "text/plain": [
              "<PIL.Image.Image image mode=RGB size=39x27 at 0x7FDE3B952050>"
            ],
            "image/png": "[encoded data removed]"
          },
          "metadata": {}
        },
        {
          "output_type": "stream",
          "name": "stdout",
          "text": [
            "(27, 39)\n",
            "predicted text = P\n",
            "sor-ooD Sentence Database - - - - - A nore to stor Mrr. Gaitskellfioa nominatingaav #ore tabour Vfeleersis to bemadeat a neclingodlalows \" Potomomom Mr. Michad oot has putdoma a resodlutionon the subject and he is to be backed br Mrr. mi Gviththsr \" # for Mandatorlerdasgh - - - - \" MovE to stop Mr. . Gaitskell from nominating . . any more Labour life Peers o . to be made at a meeting . of Labour MP 8 tomorrow Mr . Michael Foot has put down a resolution on the subject \" . on he . o to be backed by Mr. . Will Griffiths , \" P for Manchester Exhange . - - - - - Mraraer . A MoVE to stop Mr. . Gaitskell from nominating . . any more Labour life Peers no . to be made at a meeting . af Labour MP 8 tomorrow. Mr . Michael Foot sas put down a vesolution on the subject . . on he . no to be backed by Mr. . Will Griffiths , \" P \n"
          ]
        },
        {
          "output_type": "display_data",
          "data": {
            "text/plain": [
              "<PIL.Image.Image image mode=RGB size=74x32 at 0x7FDE395B1390>"
            ],
            "image/png": "[encoded data removed]"
          },
          "metadata": {}
        },
        {
          "output_type": "display_data",
          "data": {
            "text/plain": [
              "<PIL.Image.Image image mode=RGB size=74x32 at 0x7FDE39498ED0>"
            ],
            "image/png": "[encoded data removed]"
          },
          "metadata": {}
        },
        {
          "output_type": "stream",
          "name": "stdout",
          "text": [
            "(32, 74)\n",
            "predicted text = f\n",
            "o\n",
            "r\n",
            "sor-ooD Sentence Database - - - - - A nore to stor Mrr. Gaitskellfioa nominatingaav #ore tabour Vfeleersis to bemadeat a neclingodlalows \" Potomomom Mr. Michad oot has putdoma a resodlutionon the subject and he is to be backed br Mrr. mi Gviththsr \" # for Mandatorlerdasgh - - - - \" MovE to stop Mr. . Gaitskell from nominating . . any more Labour life Peers o . to be made at a meeting . of Labour MP 8 tomorrow Mr . Michael Foot has put down a resolution on the subject \" . on he . o to be backed by Mr. . Will Griffiths , \" P for Manchester Exhange . - - - - - Mraraer . A MoVE to stop Mr. . Gaitskell from nominating . . any more Labour life Peers no . to be made at a meeting . af Labour MP 8 tomorrow. Mr . Michael Foot sas put down a vesolution on the subject . . on he . no to be backed by Mr. . Will Griffiths , \" P for \n"
          ]
        },
        {
          "output_type": "display_data",
          "data": {
            "text/plain": [
              "<PIL.Image.Image image mode=RGB size=184x25 at 0x7FDE3BF16510>"
            ],
            "image/png": "[encoded data removed]"
          },
          "metadata": {}
        },
        {
          "output_type": "display_data",
          "data": {
            "text/plain": [
              "<PIL.Image.Image image mode=RGB size=184x25 at 0x7FDE3B7CF190>"
            ],
            "image/png": "[encoded data removed]"
          },
          "metadata": {}
        },
        {
          "output_type": "stream",
          "name": "stdout",
          "text": [
            "(25, 184)\n",
            "predicted text = M\n",
            "a\n",
            "n\n",
            "c\n",
            "h\n",
            "e\n",
            "s\n",
            "t\n",
            "e\n",
            "r\n",
            "sor-ooD Sentence Database - - - - - A nore to stor Mrr. Gaitskellfioa nominatingaav #ore tabour Vfeleersis to bemadeat a neclingodlalows \" Potomomom Mr. Michad oot has putdoma a resodlutionon the subject and he is to be backed br Mrr. mi Gviththsr \" # for Mandatorlerdasgh - - - - \" MovE to stop Mr. . Gaitskell from nominating . . any more Labour life Peers o . to be made at a meeting . of Labour MP 8 tomorrow Mr . Michael Foot has put down a resolution on the subject \" . on he . o to be backed by Mr. . Will Griffiths , \" P for Manchester Exhange . - - - - - Mraraer . A MoVE to stop Mr. . Gaitskell from nominating . . any more Labour life Peers no . to be made at a meeting . af Labour MP 8 tomorrow. Mr . Michael Foot sas put down a vesolution on the subject . . on he . no to be backed by Mr. . Will Griffiths , \" P for Manchester \n"
          ]
        },
        {
          "output_type": "display_data",
          "data": {
            "text/plain": [
              "<PIL.Image.Image image mode=RGB size=192x28 at 0x7FDE3CA38210>"
            ],
            "image/png": "[encoded data removed]"
          },
          "metadata": {}
        },
        {
          "output_type": "display_data",
          "data": {
            "text/plain": [
              "<PIL.Image.Image image mode=RGB size=192x28 at 0x7FDE3C0BC810>"
            ],
            "image/png": "[encoded data removed]"
          },
          "metadata": {}
        },
        {
          "output_type": "stream",
          "name": "stdout",
          "text": [
            "(28, 192)\n",
            "predicted text = E\n",
            "x\n",
            "h\n",
            "a\n",
            "n\n",
            "g\n",
            "e\n",
            "sor-ooD Sentence Database - - - - - A nore to stor Mrr. Gaitskellfioa nominatingaav #ore tabour Vfeleersis to bemadeat a neclingodlalows \" Potomomom Mr. Michad oot has putdoma a resodlutionon the subject and he is to be backed br Mrr. mi Gviththsr \" # for Mandatorlerdasgh - - - - \" MovE to stop Mr. . Gaitskell from nominating . . any more Labour life Peers o . to be made at a meeting . of Labour MP 8 tomorrow Mr . Michael Foot has put down a resolution on the subject \" . on he . o to be backed by Mr. . Will Griffiths , \" P for Manchester Exhange . - - - - - Mraraer . A MoVE to stop Mr. . Gaitskell from nominating . . any more Labour life Peers no . to be made at a meeting . af Labour MP 8 tomorrow. Mr . Michael Foot sas put down a vesolution on the subject . . on he . no to be backed by Mr. . Will Griffiths , \" P for Manchester Exhange \n"
          ]
        },
        {
          "output_type": "display_data",
          "data": {
            "text/plain": [
              "<PIL.Image.Image image mode=RGB size=12x9 at 0x7FDE3CA35E50>"
            ],
            "image/png": "[encoded data removed]"
          },
          "metadata": {}
        },
        {
          "output_type": "display_data",
          "data": {
            "text/plain": [
              "<PIL.Image.Image image mode=RGB size=12x9 at 0x7FDE3CA37DD0>"
            ],
            "image/png": "[encoded data removed]"
          },
          "metadata": {}
        },
        {
          "output_type": "stream",
          "name": "stdout",
          "text": [
            "(9, 12)\n",
            "predicted text = .\n",
            "sor-ooD Sentence Database - - - - - A nore to stor Mrr. Gaitskellfioa nominatingaav #ore tabour Vfeleersis to bemadeat a neclingodlalows \" Potomomom Mr. Michad oot has putdoma a resodlutionon the subject and he is to be backed br Mrr. mi Gviththsr \" # for Mandatorlerdasgh - - - - \" MovE to stop Mr. . Gaitskell from nominating . . any more Labour life Peers o . to be made at a meeting . of Labour MP 8 tomorrow Mr . Michael Foot has put down a resolution on the subject \" . on he . o to be backed by Mr. . Will Griffiths , \" P for Manchester Exhange . - - - - - Mraraer . A MoVE to stop Mr. . Gaitskell from nominating . . any more Labour life Peers no . to be made at a meeting . af Labour MP 8 tomorrow. Mr . Michael Foot sas put down a vesolution on the subject . . on he . no to be backed by Mr. . Will Griffiths , \" P for Manchester Exhange . \n"
          ]
        },
        {
          "output_type": "display_data",
          "data": {
            "text/plain": [
              "<Figure size 432x288 with 1 Axes>"
            ],
            "image/png": "[encoded data removed]"
          },
          "metadata": {
            "needs_background": "light"
          }
        }
      ]
    },
    {
      "cell_type": "code",
      "source": [],
      "metadata": {
        "id": "SG3hPznkdfxf"
      },
      "execution_count": null,
      "outputs": []
    },
    {
      "cell_type": "code",
      "execution_count": null,
      "metadata": {
        "id": "8rkqFRwgY-11"
      },
      "outputs": [],
      "source": []
    },
    {
      "cell_type": "code",
      "source": [
        "SK.__version__\n"
      ],
      "metadata": {
        "colab": {
          "base_uri": "https://localhost:8080/",
          "height": 165
        },
        "id": "k3gsVQoNnXBa",
        "outputId": "87e41536-e34a-43c2-8581-39723be636ec"
      },
      "execution_count": null,
      "outputs": [
        {
          "output_type": "error",
          "ename": "AttributeError",
          "evalue": "ignored",
          "traceback": [
            "\u001b[0;31m---------------------------------------------------------------------------\u001b[0m",
            "\u001b[0;31mAttributeError\u001b[0m                            Traceback (most recent call last)",
            "\u001b[0;32m<ipython-input-37-f59ef40ad26c>\u001b[0m in \u001b[0;36m<module>\u001b[0;34m()\u001b[0m\n\u001b[0;32m----> 1\u001b[0;31m \u001b[0mK\u001b[0m\u001b[0;34m.\u001b[0m\u001b[0m__version__\u001b[0m\u001b[0;34m\u001b[0m\u001b[0;34m\u001b[0m\u001b[0m\n\u001b[0m",
            "\u001b[0;31mAttributeError\u001b[0m: module 'keras.backend' has no attribute '__version__'"
          ]
        }
      ]
    },
    {
      "cell_type": "code",
      "source": [
        "import cv2\n",
        "import numpy as np\n",
        "import matplotlib.pyplot as plt\n",
        "#import keras\n",
        "import keras.backend as K\n",
        "from tensorflow.keras.models import load_model\n",
        "from tensorflow.keras.models import Model\n",
        "from tensorflow import expand_dims\n",
        "#import tensorflow as tf\n",
        "from google.cloud import storage"
      ],
      "metadata": {
        "id": "Ziqedbt9N7Ut",
        "colab": {
          "base_uri": "https://localhost:8080/",
          "height": 130
        },
        "outputId": "d5087d3f-8c8b-43bd-d458-62047c96438c"
      },
      "execution_count": null,
      "outputs": [
        {
          "output_type": "error",
          "ename": "SyntaxError",
          "evalue": "ignored",
          "traceback": [
            "\u001b[0;36m  File \u001b[0;32m\"<ipython-input-27-d9113f4036da>\"\u001b[0;36m, line \u001b[0;32m3\u001b[0m\n\u001b[0;31m    import matplotlib.pyplot as plt/\u001b[0m\n\u001b[0m                                   ^\u001b[0m\n\u001b[0;31mSyntaxError\u001b[0m\u001b[0;31m:\u001b[0m invalid syntax\n"
          ]
        }
      ]
    },
    {
      "cell_type": "code",
      "source": [
        "K=tf.keras.backend"
      ],
      "metadata": {
        "id": "kS_UH2YJoaeF"
      },
      "execution_count": null,
      "outputs": []
    },
    {
      "cell_type": "code",
      "source": [
        "import tensorflow as tf\n",
        "tf.__version__\n"
      ],
      "metadata": {
        "id": "yMEYmySLbRVo"
      },
      "execution_count": null,
      "outputs": []
    },
    {
      "cell_type": "code",
      "source": [
        "import keras as K\n",
        "K.__version__"
      ],
      "metadata": {
        "id": "RHD9Xacocpuw",
        "colab": {
          "base_uri": "https://localhost:8080/",
          "height": 36
        },
        "outputId": "81bd7e6f-7ec2-43f7-aab9-1ac10afb3016"
      },
      "execution_count": null,
      "outputs": [
        {
          "output_type": "execute_result",
          "data": {
            "text/plain": [
              "'2.8.0'"
            ],
            "application/vnd.google.colaboratory.intrinsic+json": {
              "type": "string"
            }
          },
          "metadata": {},
          "execution_count": 13
        }
      ]
    },
    {
      "cell_type": "code",
      "source": [
        "cv2.__version__"
      ],
      "metadata": {
        "id": "HR0JemR4ZxKJ",
        "colab": {
          "base_uri": "https://localhost:8080/",
          "height": 36
        },
        "outputId": "1dd3b3ff-0155-41d1-f065-841d3ba28cfb"
      },
      "execution_count": null,
      "outputs": [
        {
          "output_type": "execute_result",
          "data": {
            "text/plain": [
              "'4.1.2'"
            ],
            "application/vnd.google.colaboratory.intrinsic+json": {
              "type": "string"
            }
          },
          "metadata": {},
          "execution_count": 14
        }
      ]
    },
    {
      "cell_type": "code",
      "source": [
        "!python --version"
      ],
      "metadata": {
        "id": "jGewJL6tkXVH",
        "colab": {
          "base_uri": "https://localhost:8080/"
        },
        "outputId": "57b52b14-e319-495c-a18d-d48350803fac"
      },
      "execution_count": null,
      "outputs": [
        {
          "output_type": "stream",
          "name": "stdout",
          "text": [
            "Python 3.7.13\n"
          ]
        }
      ]
    },
    {
      "cell_type": "code",
      "source": [
        "# Function dependencies, for example:\n",
        "# package>=version\n",
        "\n",
        "tensorflow==2.9.0\n",
        "google-cloud-storage==1.16.1\n",
        "Pillow==6.2.0\n",
        "opencv-python==4.6.0.66\n",
        "matplotlib==3.5.2\n",
        "keras==2.9.0"
      ],
      "metadata": {
        "colab": {
          "base_uri": "https://localhost:8080/"
        },
        "id": "sGrBH4iAa_kY",
        "outputId": "0f082ac8-d5af-406f-b9e8-ec711e038a66"
      },
      "execution_count": null,
      "outputs": [
        {
          "output_type": "execute_result",
          "data": {
            "text/plain": [
              "array([], shape=(0, 0, 3), dtype=uint8)"
            ]
          },
          "metadata": {},
          "execution_count": 8
        }
      ]
    },
    {
      "cell_type": "code",
      "source": [
        "# Function dependencies, for example:\n",
        "# package>=version\n",
        "\n",
        "tensorflow==2.8.2\n",
        "google-cloud-storage==1.16.1\n",
        "Pillow==6.2.0\n",
        "opencv-python==4.1.2\n",
        "matplotlib==3.5.2\n",
        "keras==2.8.0"
      ],
      "metadata": {
        "id": "q_c27JrFfbh4"
      },
      "execution_count": null,
      "outputs": []
    },
    {
      "cell_type": "code",
      "source": [],
      "metadata": {
        "id": "0x-wRZzgZbPq"
      },
      "execution_count": null,
      "outputs": []
    },
    {
      "cell_type": "code",
      "source": [],
      "metadata": {
        "id": "sM3DGo0feV-Y"
      },
      "execution_count": null,
      "outputs": []
    },
    {
      "cell_type": "code",
      "source": [
        "so=[]\n"
      ],
      "metadata": {
        "id": "ptdxKBONhHwH"
      },
      "execution_count": null,
      "outputs": []
    },
    {
      "cell_type": "code",
      "source": [],
      "metadata": {
        "id": "nbZivTjAfr8m"
      },
      "execution_count": null,
      "outputs": []
    },
    {
      "cell_type": "code",
      "source": [
        "str(so)"
      ],
      "metadata": {
        "colab": {
          "base_uri": "https://localhost:8080/",
          "height": 140
        },
        "id": "VXJ18mmLZd-m",
        "outputId": "23c0a24f-336a-4cb0-cbad-b856e2ce3445"
      },
      "execution_count": null,
      "outputs": [
        {
          "output_type": "execute_result",
          "data": {
            "text/plain": [
              "\"['A', ' ', 'M', 'o', 'v', 'E', ' ', 't', 'o', ' ', 's', 't', 'o', 'p', ' ', 'M', 'r', '.', ' ', 'G', 'G', 'i', 't', 's', 'h', 'e', 'l', 'l', ' ', 'f', 'r', 'o', 'm', ' ', 'l', 'i', 'f', 'e', ' ', 'n', 'o', 'm', 'i', 'n', 'a', 't', 'i', 'n', 'g', ' ', 'P', 'e', 'e', 'r', 's', ' ', 'L', 'a', 'b', 'o', 'u', 'r', ' ', 'a', 'n', 'y', ' ', 'm', 'o', 'r', 'e', ' ', 'i', 's', ' ', 'a', 'f', ' ', 'b', 'e', ' ', 'm', 'e', 'e', 't', 'i', 'n', 'g', ' ', 'a', 't', ' ', 't', 'o', ' ', 'L', 'a', 'b', 'o', 'u', 'r', ' ', 'm', 'a', 'd', 'e', ' ', 'a', ' ', 'M', 'P', 's', ' ', 'M', 'r', '.', ' ', 'F', 'o', 'o', 't', ' ', 't', 'o', 'm', 'o', 'r', 'r', 'o', 'w', ' ', 'M', 'i', 'c', 'h', 'a', 'e', 'l', ' ', 'h', 'a', 's', ' ', 's', 'u', 'b', 'j', 'e', 'c', 't', ' ', 'p', 'u', 't', ' ', 't', 'h', 'e', ' ', 'v', 'e', 's', 'o', 'u', 't', 'i', 'o', 'n', ' ', 'd', 'o', 'w', 'n', ' ', 'o', 'n', ' ', 'a', ' ', 'i', 'v', ' ', 'M', 'r', '.', ' ', 'w', 'i', 'l', 'l', ' ', 'h', 'e', ' ', 'b', 'a', 'c', 'h', 'e', 'd', ' ', 'o', 'n', 'd', ' ', 'b', 'e', ' ', 'd', 'o', ' ', 'b', 'y', ' ', 'M', 'P', ' ', 'G', 'i', 'f', 'f', 'i', 't', 'h', 's', ' ', 'f', 'o', 'r', ' ', 'M', 'a', 'n', 'c', 'h', 'e', 's', 't', 'e', 'r', ' ', 'E', 'x', 'd', 'a', 'n', 'g', 'e', '-', ' ', ',', ' ']\""
            ],
            "application/vnd.google.colaboratory.intrinsic+json": {
              "type": "string"
            }
          },
          "metadata": {},
          "execution_count": 47
        }
      ]
    },
    {
      "cell_type": "code",
      "source": [],
      "metadata": {
        "colab": {
          "base_uri": "https://localhost:8080/"
        },
        "id": "p3L4nCNSfpWp",
        "outputId": "6071e10d-db09-4d1a-8b75-ee1738f93cb1"
      },
      "execution_count": null,
      "outputs": [
        {
          "output_type": "stream",
          "name": "stdout",
          "text": [
            "A MovE to stop Mr. GGitshell from life nominating Peers Labour any more is af be meeting at to Labour made a MPs Mr. Foot tomorrow Michael has subject put the vesoution down on a iv Mr. will he bached ond be do by MP Giffiths for Manchester Exdange- , \n"
          ]
        }
      ]
    },
    {
      "cell_type": "code",
      "source": [
        "import cv2\n",
        "import numpy as np\n",
        "import matplotlib.pyplot as plt\n",
        "#import keras.backend as K\n",
        "import tensorflow as tf\n",
        "from google.cloud import storage\n",
        "\n",
        "interpreter = None\n",
        "input_index = None\n",
        "output_index = None\n",
        "\n",
        "model = None\n",
        "words_list = []\n",
        "\n",
        "BUCKET_NAME = \"image2text-fyp\" # Here you need to put the name of your GCP bucket\n",
        "def download_blob(bucket_name, source_blob_name, destination_file_name):\n",
        "    \"\"\"Downloads a blob from the bucket.\"\"\"\n",
        "    storage_client = storage.Client()\n",
        "    bucket = storage_client.get_bucket(bucket_name)\n",
        "    blob = bucket.blob(source_blob_name)\n",
        "\n",
        "    blob.download_to_filename(destination_file_name)\n",
        "\n",
        "    print(f\"Blob {source_blob_name} downloaded to {destination_file_name}.\")\n",
        "\n",
        "\n",
        "def process_img(image):\n",
        "    gray = cv2.cvtColor(image, cv2.COLOR_BGR2GRAY)\n",
        "    blur = cv2.GaussianBlur(gray, (3,3), 0)\n",
        "    canny = cv2.Canny(blur, 120, 255, 1)\n",
        "    kernel = cv2.getStructuringElement(cv2.MORPH_RECT, (9,9))\n",
        "    dilate = cv2.dilate(canny, kernel, iterations=5)\n",
        "    img_erode = cv2.erode(dilate, kernel, iterations=1)\n",
        "\n",
        "    #    cnts = cv2.findContours(dilate, cv2.RETR_EXTERNAL, cv2.CHAIN_APPROX_SIMPLE)\n",
        "    # img_gray = cv2.cvtColor(img, cv2.COLOR_BGR2GRAY)\n",
        "    # img_canny = cv2.Canny(img_gray, 120, 225,1)\n",
        "    # kernel = cv2.getStructuringElement(cv2.MORPH_RECT, (9,9))\n",
        "    # img_dilate = cv2.dilate(img_canny, kernel, iterations=5)\n",
        "    # img_erode = cv2.erode(img_dilate, kernel, iterations=1)\n",
        "    return img_erode\n",
        "\n",
        "\n",
        "def get_centeroid(cnt):\n",
        "    length = len(cnt)\n",
        "    sum_x = np.sum(cnt[..., 0])\n",
        "    sum_y = np.sum(cnt[..., 1])\n",
        "    return int(sum_x / length), int(sum_y / length)\n",
        "def get_centers(img):\n",
        "    contours, hierarchies = cv2.findContours(img, cv2.RETR_EXTERNAL, cv2.CHAIN_APPROX_SIMPLE)\n",
        "    for cnt in contours:\n",
        "        if cv2.contourArea(cnt) > 100:\n",
        "            x2, y2, w2, h2 = cv2.boundingRect(cnt)\n",
        "            words_list.append([x2, y2, x2+w2, y2+h2])\n",
        "            yield get_centeroid(cnt)\n",
        "\n",
        "\n",
        "def get_rows(img, centers, row_amt, row_h):\n",
        "    centers = np.array(centers)\n",
        "    d = row_h / row_amt\n",
        "    for i in range(row_amt):\n",
        "        f = centers[:, 1] - d * i\n",
        "        a = centers[(f < d) & (f > 0)]\n",
        "        yield a[a.argsort(0)[:, 0]]\n",
        "def process_image(img):\n",
        "    \"\"\"\n",
        "    Converts image to shape (32, 128, 1) & normalize\n",
        "    \"\"\"\n",
        "    w, h = img.shape\n",
        "\n",
        "    #     _, img = cv2.threshold(img,\n",
        "    #                            128,\n",
        "    #                            255,\n",
        "    #                            cv2.THRESH_BINARY | cv2.THRESH_OTSU)\n",
        "\n",
        "        # Aspect Ratio Calculation\n",
        "    new_w = 32\n",
        "    new_h = int(h * (new_w / w))\n",
        "    img = cv2.resize(img, (new_h, new_w))\n",
        "    w, h = img.shape\n",
        "\n",
        "    img = img.astype('float32')\n",
        "\n",
        "    # Converts each to (32, 128, 1)\n",
        "    if w < 32:\n",
        "        add_zeros = np.full((32-w, h), 255)\n",
        "        img = np.concatenate((img, add_zeros))\n",
        "        w, h = img.shape\n",
        "\n",
        "    if h < 128:\n",
        "        add_zeros = np.full((w, 128-h), 255)\n",
        "        img = np.concatenate((img, add_zeros), axis=1)\n",
        "        w, h = img.shape\n",
        "\n",
        "    if h > 128 or w > 32:\n",
        "        dim = (128,32)\n",
        "        img = cv2.resize(img, dim)\n",
        "\n",
        "    img = cv2.subtract(255, img)\n",
        "\n",
        "    img = np.expand_dims(img, axis=2)\n",
        "\n",
        "    # Normalize\n",
        "    img = img / 255\n",
        "\n",
        "    return img\n",
        "def fun(img):\n",
        "  img=process_image(img)\n",
        "  img=expand_dims(img, axis=0)\n",
        "  prediction = Model2.predict(img)\n",
        "  decoded = K.ctc_decode(prediction,\n",
        "                                input_length=np.ones(prediction.shape[0]) * prediction.shape[1],\n",
        "                                greedy=True)[0][0]\n",
        "  out = K.get_value(decoded)\n",
        "  char_list = \"!\\\"#&'()*+,-./0123456789:;?ABCDEFGHIJKLMNOPQRSTUVWXYZabcdefghijklmnopqrstuvwxyz\"\n",
        "\n",
        "  for i, x in enumerate(out):\n",
        "      #print(\"predicted text = \", end = '')\n",
        "      for p in x:\n",
        "          if int(p) != -1:\n",
        "              s=char_list[int(p)]\n",
        "              so.append(s)\n",
        "              #print(s)\n",
        "      so.append(' ')\n",
        "\n",
        "def hello_world(request):\n",
        "  global model\n",
        "  if model is None:\n",
        "      download_blob(BUCKET_NAME,\"cloud-Storage/model3.h5\",\"/tmp/potatoes.h5\")\n",
        "  img = request.files[\"file\"]\n",
        "  copy=img.copy()\n",
        "  img_processed = process_img(img)\n",
        "  centers = list(get_centers(img_processed))\n",
        "\n",
        "  h, w, c = img.shape\n",
        "  count = 0\n",
        "\n",
        "  for row in get_rows(img, centers, 10, h):\n",
        "      cv2.polylines(img, [row], False, (255, 0, 255), 2)\n",
        "      for x, y in row:\n",
        "          count += 1\n",
        "          cv2.circle(img, (x, y), 10, (0, 0, 255), -1)\n",
        "          cv2.putText(img, str(count), (x - 10, y + 5), 1, cv2.FONT_HERSHEY_PLAIN, (0, 255, 255), 2)\n",
        "  #cv2_imshow(img)\n",
        "  #cv2.waitKey(0)\n",
        "  copy = cv2.cvtColor(copy, cv2.COLOR_BGR2GRAY)\n",
        "  ninth_word = words_list[-1]\n",
        "  roi_9 = copy[ninth_word[1]:ninth_word[3], ninth_word[0]:ninth_word[2]]\n",
        "  #print(ninth_word)\n",
        "  #plt.imshow(roi_9)\n",
        "  act_model=model = tf.keras.models.load_model(\"/tmp/potatoes.h5\",compile = False)\n",
        "  #keras.models.load_model('/content/drive/MyDrive/FYP/LSTM/model3.h5',compile = False)\n",
        "  a=act_model.input[0]\n",
        "  b=act_model.get_layer('dense')\n",
        "  Model2=Model(inputs=a,outputs=b.output)\n",
        "  for x in reversed(range(len(words_list))):\n",
        "    ninth_word = words_list[x]\n",
        "    roi_9 = copy[ninth_word[1]:ninth_word[3], ninth_word[0]:ninth_word[2]]\n",
        "    #cv2_imshow(roi_9)\n",
        "    fun(roi_9)\n",
        "\n",
        "  str1=\"\"\n",
        "  for i in so:\n",
        "      str1 += i\n",
        "  print(str1)\n",
        "  return str1\n"
      ],
      "metadata": {
        "id": "GwF4Dw7Jgv4H"
      },
      "execution_count": null,
      "outputs": []
    },
    {
      "cell_type": "code",
      "source": [
        "hello_world(None)"
      ],
      "metadata": {
        "colab": {
          "base_uri": "https://localhost:8080/",
          "height": 1000
        },
        "id": "ng8xoBsv448m",
        "outputId": "0b7de5cb-333e-4ec4-ae6e-df98c8f58d87"
      },
      "execution_count": null,
      "outputs": [
        {
          "output_type": "error",
          "ename": "RefreshError",
          "evalue": "ignored",
          "traceback": [
            "\u001b[0;31m---------------------------------------------------------------------------\u001b[0m",
            "\u001b[0;31mTransportError\u001b[0m                            Traceback (most recent call last)",
            "\u001b[0;32m/usr/local/lib/python3.7/dist-packages/google/auth/compute_engine/credentials.py\u001b[0m in \u001b[0;36mrefresh\u001b[0;34m(self, request)\u001b[0m\n\u001b[1;32m    110\u001b[0m         \u001b[0;32mtry\u001b[0m\u001b[0;34m:\u001b[0m\u001b[0;34m\u001b[0m\u001b[0;34m\u001b[0m\u001b[0m\n\u001b[0;32m--> 111\u001b[0;31m             \u001b[0mself\u001b[0m\u001b[0;34m.\u001b[0m\u001b[0m_retrieve_info\u001b[0m\u001b[0;34m(\u001b[0m\u001b[0mrequest\u001b[0m\u001b[0;34m)\u001b[0m\u001b[0;34m\u001b[0m\u001b[0;34m\u001b[0m\u001b[0m\n\u001b[0m\u001b[1;32m    112\u001b[0m             self.token, self.expiry = _metadata.get_service_account_token(\n",
            "\u001b[0;32m/usr/local/lib/python3.7/dist-packages/google/auth/compute_engine/credentials.py\u001b[0m in \u001b[0;36m_retrieve_info\u001b[0;34m(self, request)\u001b[0m\n\u001b[1;32m     87\u001b[0m         info = _metadata.get_service_account_info(\n\u001b[0;32m---> 88\u001b[0;31m             \u001b[0mrequest\u001b[0m\u001b[0;34m,\u001b[0m \u001b[0mservice_account\u001b[0m\u001b[0;34m=\u001b[0m\u001b[0mself\u001b[0m\u001b[0;34m.\u001b[0m\u001b[0m_service_account_email\u001b[0m\u001b[0;34m\u001b[0m\u001b[0;34m\u001b[0m\u001b[0m\n\u001b[0m\u001b[1;32m     89\u001b[0m         )\n",
            "\u001b[0;32m/usr/local/lib/python3.7/dist-packages/google/auth/compute_engine/_metadata.py\u001b[0m in \u001b[0;36mget_service_account_info\u001b[0;34m(request, service_account)\u001b[0m\n\u001b[1;32m    233\u001b[0m     \u001b[0;31m# for more on the use of 'recursive'.\u001b[0m\u001b[0;34m\u001b[0m\u001b[0;34m\u001b[0m\u001b[0;34m\u001b[0m\u001b[0m\n\u001b[0;32m--> 234\u001b[0;31m     \u001b[0;32mreturn\u001b[0m \u001b[0mget\u001b[0m\u001b[0;34m(\u001b[0m\u001b[0mrequest\u001b[0m\u001b[0;34m,\u001b[0m \u001b[0mpath\u001b[0m\u001b[0;34m,\u001b[0m \u001b[0mparams\u001b[0m\u001b[0;34m=\u001b[0m\u001b[0;34m{\u001b[0m\u001b[0;34m\"recursive\"\u001b[0m\u001b[0;34m:\u001b[0m \u001b[0;34m\"true\"\u001b[0m\u001b[0;34m}\u001b[0m\u001b[0;34m)\u001b[0m\u001b[0;34m\u001b[0m\u001b[0;34m\u001b[0m\u001b[0m\n\u001b[0m\u001b[1;32m    235\u001b[0m \u001b[0;34m\u001b[0m\u001b[0m\n",
            "\u001b[0;32m/usr/local/lib/python3.7/dist-packages/google/auth/compute_engine/_metadata.py\u001b[0m in \u001b[0;36mget\u001b[0;34m(request, path, root, params, recursive, retry_count)\u001b[0m\n\u001b[1;32m    186\u001b[0m             ),\n\u001b[0;32m--> 187\u001b[0;31m             \u001b[0mresponse\u001b[0m\u001b[0;34m,\u001b[0m\u001b[0;34m\u001b[0m\u001b[0;34m\u001b[0m\u001b[0m\n\u001b[0m\u001b[1;32m    188\u001b[0m         )\n",
            "\u001b[0;31mTransportError\u001b[0m: (\"Failed to retrieve http://metadata.google.internal/computeMetadata/v1/instance/service-accounts/default/?recursive=true from the Google Compute Enginemetadata service. Status: 404 Response:\\nb''\", <google.auth.transport.requests._Response object at 0x7f17b3e8d850>)",
            "\nThe above exception was the direct cause of the following exception:\n",
            "\u001b[0;31mRefreshError\u001b[0m                              Traceback (most recent call last)",
            "\u001b[0;32m<ipython-input-67-0ef1e5857135>\u001b[0m in \u001b[0;36m<module>\u001b[0;34m()\u001b[0m\n\u001b[0;32m----> 1\u001b[0;31m \u001b[0mhello_world\u001b[0m\u001b[0;34m(\u001b[0m\u001b[0;32mNone\u001b[0m\u001b[0;34m)\u001b[0m\u001b[0;34m\u001b[0m\u001b[0;34m\u001b[0m\u001b[0m\n\u001b[0m",
            "\u001b[0;32m<ipython-input-66-e5a70e76d8e1>\u001b[0m in \u001b[0;36mhello_world\u001b[0;34m(request)\u001b[0m\n\u001b[1;32m    127\u001b[0m   \u001b[0;32mglobal\u001b[0m \u001b[0mmodel\u001b[0m\u001b[0;34m\u001b[0m\u001b[0;34m\u001b[0m\u001b[0m\n\u001b[1;32m    128\u001b[0m   \u001b[0;32mif\u001b[0m \u001b[0mmodel\u001b[0m \u001b[0;32mis\u001b[0m \u001b[0;32mNone\u001b[0m\u001b[0;34m:\u001b[0m\u001b[0;34m\u001b[0m\u001b[0;34m\u001b[0m\u001b[0m\n\u001b[0;32m--> 129\u001b[0;31m       \u001b[0mdownload_blob\u001b[0m\u001b[0;34m(\u001b[0m\u001b[0mBUCKET_NAME\u001b[0m\u001b[0;34m,\u001b[0m\u001b[0;34m\"cloud-Storage/model3.h5\"\u001b[0m\u001b[0;34m,\u001b[0m\u001b[0;34m\"/tmp/potatoes.h5\"\u001b[0m\u001b[0;34m)\u001b[0m\u001b[0;34m\u001b[0m\u001b[0;34m\u001b[0m\u001b[0m\n\u001b[0m\u001b[1;32m    130\u001b[0m   \u001b[0mimg\u001b[0m \u001b[0;34m=\u001b[0m \u001b[0mrequest\u001b[0m\u001b[0;34m.\u001b[0m\u001b[0mfiles\u001b[0m\u001b[0;34m[\u001b[0m\u001b[0;34m\"file\"\u001b[0m\u001b[0;34m]\u001b[0m\u001b[0;34m\u001b[0m\u001b[0;34m\u001b[0m\u001b[0m\n\u001b[1;32m    131\u001b[0m   \u001b[0mcopy\u001b[0m\u001b[0;34m=\u001b[0m\u001b[0mimg\u001b[0m\u001b[0;34m.\u001b[0m\u001b[0mcopy\u001b[0m\u001b[0;34m(\u001b[0m\u001b[0;34m)\u001b[0m\u001b[0;34m\u001b[0m\u001b[0;34m\u001b[0m\u001b[0m\n",
            "\u001b[0;32m<ipython-input-66-e5a70e76d8e1>\u001b[0m in \u001b[0;36mdownload_blob\u001b[0;34m(bucket_name, source_blob_name, destination_file_name)\u001b[0m\n\u001b[1;32m     17\u001b[0m     \u001b[0;34m\"\"\"Downloads a blob from the bucket.\"\"\"\u001b[0m\u001b[0;34m\u001b[0m\u001b[0;34m\u001b[0m\u001b[0m\n\u001b[1;32m     18\u001b[0m     \u001b[0mstorage_client\u001b[0m \u001b[0;34m=\u001b[0m \u001b[0mstorage\u001b[0m\u001b[0;34m.\u001b[0m\u001b[0mClient\u001b[0m\u001b[0;34m(\u001b[0m\u001b[0;34m)\u001b[0m\u001b[0;34m\u001b[0m\u001b[0;34m\u001b[0m\u001b[0m\n\u001b[0;32m---> 19\u001b[0;31m     \u001b[0mbucket\u001b[0m \u001b[0;34m=\u001b[0m \u001b[0mstorage_client\u001b[0m\u001b[0;34m.\u001b[0m\u001b[0mget_bucket\u001b[0m\u001b[0;34m(\u001b[0m\u001b[0mbucket_name\u001b[0m\u001b[0;34m)\u001b[0m\u001b[0;34m\u001b[0m\u001b[0;34m\u001b[0m\u001b[0m\n\u001b[0m\u001b[1;32m     20\u001b[0m     \u001b[0mblob\u001b[0m \u001b[0;34m=\u001b[0m \u001b[0mbucket\u001b[0m\u001b[0;34m.\u001b[0m\u001b[0mblob\u001b[0m\u001b[0;34m(\u001b[0m\u001b[0msource_blob_name\u001b[0m\u001b[0;34m)\u001b[0m\u001b[0;34m\u001b[0m\u001b[0;34m\u001b[0m\u001b[0m\n\u001b[1;32m     21\u001b[0m \u001b[0;34m\u001b[0m\u001b[0m\n",
            "\u001b[0;32m/usr/local/lib/python3.7/dist-packages/google/cloud/storage/client.py\u001b[0m in \u001b[0;36mget_bucket\u001b[0;34m(self, bucket_or_name)\u001b[0m\n\u001b[1;32m    276\u001b[0m         \u001b[0mbucket\u001b[0m \u001b[0;34m=\u001b[0m \u001b[0mself\u001b[0m\u001b[0;34m.\u001b[0m\u001b[0m_bucket_arg_to_bucket\u001b[0m\u001b[0;34m(\u001b[0m\u001b[0mbucket_or_name\u001b[0m\u001b[0;34m)\u001b[0m\u001b[0;34m\u001b[0m\u001b[0;34m\u001b[0m\u001b[0m\n\u001b[1;32m    277\u001b[0m \u001b[0;34m\u001b[0m\u001b[0m\n\u001b[0;32m--> 278\u001b[0;31m         \u001b[0mbucket\u001b[0m\u001b[0;34m.\u001b[0m\u001b[0mreload\u001b[0m\u001b[0;34m(\u001b[0m\u001b[0mclient\u001b[0m\u001b[0;34m=\u001b[0m\u001b[0mself\u001b[0m\u001b[0;34m)\u001b[0m\u001b[0;34m\u001b[0m\u001b[0;34m\u001b[0m\u001b[0m\n\u001b[0m\u001b[1;32m    279\u001b[0m         \u001b[0;32mreturn\u001b[0m \u001b[0mbucket\u001b[0m\u001b[0;34m\u001b[0m\u001b[0;34m\u001b[0m\u001b[0m\n\u001b[1;32m    280\u001b[0m \u001b[0;34m\u001b[0m\u001b[0m\n",
            "\u001b[0;32m/usr/local/lib/python3.7/dist-packages/google/cloud/storage/_helpers.py\u001b[0m in \u001b[0;36mreload\u001b[0;34m(self, client)\u001b[0m\n\u001b[1;32m    128\u001b[0m             \u001b[0mquery_params\u001b[0m\u001b[0;34m=\u001b[0m\u001b[0mquery_params\u001b[0m\u001b[0;34m,\u001b[0m\u001b[0;34m\u001b[0m\u001b[0;34m\u001b[0m\u001b[0m\n\u001b[1;32m    129\u001b[0m             \u001b[0mheaders\u001b[0m\u001b[0;34m=\u001b[0m\u001b[0mself\u001b[0m\u001b[0;34m.\u001b[0m\u001b[0m_encryption_headers\u001b[0m\u001b[0;34m(\u001b[0m\u001b[0;34m)\u001b[0m\u001b[0;34m,\u001b[0m\u001b[0;34m\u001b[0m\u001b[0;34m\u001b[0m\u001b[0m\n\u001b[0;32m--> 130\u001b[0;31m             \u001b[0m_target_object\u001b[0m\u001b[0;34m=\u001b[0m\u001b[0mself\u001b[0m\u001b[0;34m,\u001b[0m\u001b[0;34m\u001b[0m\u001b[0;34m\u001b[0m\u001b[0m\n\u001b[0m\u001b[1;32m    131\u001b[0m         )\n\u001b[1;32m    132\u001b[0m         \u001b[0mself\u001b[0m\u001b[0;34m.\u001b[0m\u001b[0m_set_properties\u001b[0m\u001b[0;34m(\u001b[0m\u001b[0mapi_response\u001b[0m\u001b[0;34m)\u001b[0m\u001b[0;34m\u001b[0m\u001b[0;34m\u001b[0m\u001b[0m\n",
            "\u001b[0;32m/usr/local/lib/python3.7/dist-packages/google/cloud/_http.py\u001b[0m in \u001b[0;36mapi_request\u001b[0;34m(self, method, path, query_params, data, content_type, headers, api_base_url, api_version, expect_json, _target_object)\u001b[0m\n\u001b[1;32m    387\u001b[0m             \u001b[0mcontent_type\u001b[0m\u001b[0;34m=\u001b[0m\u001b[0mcontent_type\u001b[0m\u001b[0;34m,\u001b[0m\u001b[0;34m\u001b[0m\u001b[0;34m\u001b[0m\u001b[0m\n\u001b[1;32m    388\u001b[0m             \u001b[0mheaders\u001b[0m\u001b[0;34m=\u001b[0m\u001b[0mheaders\u001b[0m\u001b[0;34m,\u001b[0m\u001b[0;34m\u001b[0m\u001b[0;34m\u001b[0m\u001b[0m\n\u001b[0;32m--> 389\u001b[0;31m             \u001b[0mtarget_object\u001b[0m\u001b[0;34m=\u001b[0m\u001b[0m_target_object\u001b[0m\u001b[0;34m,\u001b[0m\u001b[0;34m\u001b[0m\u001b[0;34m\u001b[0m\u001b[0m\n\u001b[0m\u001b[1;32m    390\u001b[0m         )\n\u001b[1;32m    391\u001b[0m \u001b[0;34m\u001b[0m\u001b[0m\n",
            "\u001b[0;32m/usr/local/lib/python3.7/dist-packages/google/cloud/_http.py\u001b[0m in \u001b[0;36m_make_request\u001b[0;34m(self, method, url, data, content_type, headers, target_object)\u001b[0m\n\u001b[1;32m    264\u001b[0m         \u001b[0mheaders\u001b[0m\u001b[0;34m[\u001b[0m\u001b[0;34m\"User-Agent\"\u001b[0m\u001b[0;34m]\u001b[0m \u001b[0;34m=\u001b[0m \u001b[0mself\u001b[0m\u001b[0;34m.\u001b[0m\u001b[0muser_agent\u001b[0m\u001b[0;34m\u001b[0m\u001b[0;34m\u001b[0m\u001b[0m\n\u001b[1;32m    265\u001b[0m \u001b[0;34m\u001b[0m\u001b[0m\n\u001b[0;32m--> 266\u001b[0;31m         \u001b[0;32mreturn\u001b[0m \u001b[0mself\u001b[0m\u001b[0;34m.\u001b[0m\u001b[0m_do_request\u001b[0m\u001b[0;34m(\u001b[0m\u001b[0mmethod\u001b[0m\u001b[0;34m,\u001b[0m \u001b[0murl\u001b[0m\u001b[0;34m,\u001b[0m \u001b[0mheaders\u001b[0m\u001b[0;34m,\u001b[0m \u001b[0mdata\u001b[0m\u001b[0;34m,\u001b[0m \u001b[0mtarget_object\u001b[0m\u001b[0;34m)\u001b[0m\u001b[0;34m\u001b[0m\u001b[0;34m\u001b[0m\u001b[0m\n\u001b[0m\u001b[1;32m    267\u001b[0m \u001b[0;34m\u001b[0m\u001b[0m\n\u001b[1;32m    268\u001b[0m     def _do_request(\n",
            "\u001b[0;32m/usr/local/lib/python3.7/dist-packages/google/cloud/_http.py\u001b[0m in \u001b[0;36m_do_request\u001b[0;34m(self, method, url, headers, data, target_object)\u001b[0m\n\u001b[1;32m    293\u001b[0m         \u001b[0;34m:\u001b[0m\u001b[0mreturns\u001b[0m\u001b[0;34m:\u001b[0m \u001b[0mThe\u001b[0m \u001b[0mHTTP\u001b[0m \u001b[0mresponse\u001b[0m\u001b[0;34m.\u001b[0m\u001b[0;34m\u001b[0m\u001b[0;34m\u001b[0m\u001b[0m\n\u001b[1;32m    294\u001b[0m         \"\"\"\n\u001b[0;32m--> 295\u001b[0;31m         \u001b[0;32mreturn\u001b[0m \u001b[0mself\u001b[0m\u001b[0;34m.\u001b[0m\u001b[0mhttp\u001b[0m\u001b[0;34m.\u001b[0m\u001b[0mrequest\u001b[0m\u001b[0;34m(\u001b[0m\u001b[0murl\u001b[0m\u001b[0;34m=\u001b[0m\u001b[0murl\u001b[0m\u001b[0;34m,\u001b[0m \u001b[0mmethod\u001b[0m\u001b[0;34m=\u001b[0m\u001b[0mmethod\u001b[0m\u001b[0;34m,\u001b[0m \u001b[0mheaders\u001b[0m\u001b[0;34m=\u001b[0m\u001b[0mheaders\u001b[0m\u001b[0;34m,\u001b[0m \u001b[0mdata\u001b[0m\u001b[0;34m=\u001b[0m\u001b[0mdata\u001b[0m\u001b[0;34m)\u001b[0m\u001b[0;34m\u001b[0m\u001b[0;34m\u001b[0m\u001b[0m\n\u001b[0m\u001b[1;32m    296\u001b[0m \u001b[0;34m\u001b[0m\u001b[0m\n\u001b[1;32m    297\u001b[0m     def api_request(\n",
            "\u001b[0;32m/usr/local/lib/python3.7/dist-packages/google/auth/transport/requests.py\u001b[0m in \u001b[0;36mrequest\u001b[0;34m(self, method, url, data, headers, max_allowed_time, timeout, **kwargs)\u001b[0m\n\u001b[1;32m    474\u001b[0m \u001b[0;34m\u001b[0m\u001b[0m\n\u001b[1;32m    475\u001b[0m         \u001b[0;32mwith\u001b[0m \u001b[0mTimeoutGuard\u001b[0m\u001b[0;34m(\u001b[0m\u001b[0mremaining_time\u001b[0m\u001b[0;34m)\u001b[0m \u001b[0;32mas\u001b[0m \u001b[0mguard\u001b[0m\u001b[0;34m:\u001b[0m\u001b[0;34m\u001b[0m\u001b[0;34m\u001b[0m\u001b[0m\n\u001b[0;32m--> 476\u001b[0;31m             \u001b[0mself\u001b[0m\u001b[0;34m.\u001b[0m\u001b[0mcredentials\u001b[0m\u001b[0;34m.\u001b[0m\u001b[0mbefore_request\u001b[0m\u001b[0;34m(\u001b[0m\u001b[0mauth_request\u001b[0m\u001b[0;34m,\u001b[0m \u001b[0mmethod\u001b[0m\u001b[0;34m,\u001b[0m \u001b[0murl\u001b[0m\u001b[0;34m,\u001b[0m \u001b[0mrequest_headers\u001b[0m\u001b[0;34m)\u001b[0m\u001b[0;34m\u001b[0m\u001b[0;34m\u001b[0m\u001b[0m\n\u001b[0m\u001b[1;32m    477\u001b[0m         \u001b[0mremaining_time\u001b[0m \u001b[0;34m=\u001b[0m \u001b[0mguard\u001b[0m\u001b[0;34m.\u001b[0m\u001b[0mremaining_timeout\u001b[0m\u001b[0;34m\u001b[0m\u001b[0;34m\u001b[0m\u001b[0m\n\u001b[1;32m    478\u001b[0m \u001b[0;34m\u001b[0m\u001b[0m\n",
            "\u001b[0;32m/usr/local/lib/python3.7/dist-packages/google/auth/credentials.py\u001b[0m in \u001b[0;36mbefore_request\u001b[0;34m(self, request, method, url, headers)\u001b[0m\n\u001b[1;32m    131\u001b[0m         \u001b[0;31m# the http request.)\u001b[0m\u001b[0;34m\u001b[0m\u001b[0;34m\u001b[0m\u001b[0;34m\u001b[0m\u001b[0m\n\u001b[1;32m    132\u001b[0m         \u001b[0;32mif\u001b[0m \u001b[0;32mnot\u001b[0m \u001b[0mself\u001b[0m\u001b[0;34m.\u001b[0m\u001b[0mvalid\u001b[0m\u001b[0;34m:\u001b[0m\u001b[0;34m\u001b[0m\u001b[0;34m\u001b[0m\u001b[0m\n\u001b[0;32m--> 133\u001b[0;31m             \u001b[0mself\u001b[0m\u001b[0;34m.\u001b[0m\u001b[0mrefresh\u001b[0m\u001b[0;34m(\u001b[0m\u001b[0mrequest\u001b[0m\u001b[0;34m)\u001b[0m\u001b[0;34m\u001b[0m\u001b[0;34m\u001b[0m\u001b[0m\n\u001b[0m\u001b[1;32m    134\u001b[0m         \u001b[0mself\u001b[0m\u001b[0;34m.\u001b[0m\u001b[0mapply\u001b[0m\u001b[0;34m(\u001b[0m\u001b[0mheaders\u001b[0m\u001b[0;34m)\u001b[0m\u001b[0;34m\u001b[0m\u001b[0;34m\u001b[0m\u001b[0m\n\u001b[1;32m    135\u001b[0m \u001b[0;34m\u001b[0m\u001b[0m\n",
            "\u001b[0;32m/usr/local/lib/python3.7/dist-packages/google/auth/compute_engine/credentials.py\u001b[0m in \u001b[0;36mrefresh\u001b[0;34m(self, request)\u001b[0m\n\u001b[1;32m    115\u001b[0m         \u001b[0;32mexcept\u001b[0m \u001b[0mexceptions\u001b[0m\u001b[0;34m.\u001b[0m\u001b[0mTransportError\u001b[0m \u001b[0;32mas\u001b[0m \u001b[0mcaught_exc\u001b[0m\u001b[0;34m:\u001b[0m\u001b[0;34m\u001b[0m\u001b[0;34m\u001b[0m\u001b[0m\n\u001b[1;32m    116\u001b[0m             \u001b[0mnew_exc\u001b[0m \u001b[0;34m=\u001b[0m \u001b[0mexceptions\u001b[0m\u001b[0;34m.\u001b[0m\u001b[0mRefreshError\u001b[0m\u001b[0;34m(\u001b[0m\u001b[0mcaught_exc\u001b[0m\u001b[0;34m)\u001b[0m\u001b[0;34m\u001b[0m\u001b[0;34m\u001b[0m\u001b[0m\n\u001b[0;32m--> 117\u001b[0;31m             \u001b[0msix\u001b[0m\u001b[0;34m.\u001b[0m\u001b[0mraise_from\u001b[0m\u001b[0;34m(\u001b[0m\u001b[0mnew_exc\u001b[0m\u001b[0;34m,\u001b[0m \u001b[0mcaught_exc\u001b[0m\u001b[0;34m)\u001b[0m\u001b[0;34m\u001b[0m\u001b[0;34m\u001b[0m\u001b[0m\n\u001b[0m\u001b[1;32m    118\u001b[0m \u001b[0;34m\u001b[0m\u001b[0m\n\u001b[1;32m    119\u001b[0m     \u001b[0;34m@\u001b[0m\u001b[0mproperty\u001b[0m\u001b[0;34m\u001b[0m\u001b[0;34m\u001b[0m\u001b[0m\n",
            "\u001b[0;32m/usr/local/lib/python3.7/dist-packages/six.py\u001b[0m in \u001b[0;36mraise_from\u001b[0;34m(value, from_value)\u001b[0m\n",
            "\u001b[0;31mRefreshError\u001b[0m: (\"Failed to retrieve http://metadata.google.internal/computeMetadata/v1/instance/service-accounts/default/?recursive=true from the Google Compute Enginemetadata service. Status: 404 Response:\\nb''\", <google.auth.transport.requests._Response object at 0x7f17b3e8d850>)"
          ]
        }
      ]
    },
    {
      "cell_type": "code",
      "source": [],
      "metadata": {
        "id": "QN0QDBai47jH"
      },
      "execution_count": null,
      "outputs": []
    }
  ]
}